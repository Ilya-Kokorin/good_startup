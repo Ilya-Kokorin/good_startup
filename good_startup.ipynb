{
 "cells": [
  {
   "cell_type": "markdown",
   "id": "6d1a8b62-fee5-464c-a539-8ceef0988eff",
   "metadata": {},
   "source": [
    "## Общая информация"
   ]
  },
  {
   "cell_type": "markdown",
   "id": "2fc91c34-6d3b-44c9-add4-b1f616589833",
   "metadata": {},
   "source": [
    "Предстоит разработать модель машинного обучения для предсказания судьбы стартапов"
   ]
  },
  {
   "cell_type": "markdown",
   "id": "46e45e29-f5b0-4efd-900a-8160e4ed6868",
   "metadata": {},
   "source": [
    "## Библиотеки и функции"
   ]
  },
  {
   "cell_type": "code",
   "execution_count": 4,
   "id": "ad0b544c-ae4a-469b-ba73-8c401ff9dc87",
   "metadata": {},
   "outputs": [],
   "source": [
    "import numpy as np\n",
    "import pandas as pd   \n",
    "import matplotlib.pyplot as plt\n",
    "import seaborn as sns\n",
    "\n",
    "# Подготовка данных\n",
    "from sklearn.model_selection import train_test_split\n",
    "from sklearn.preprocessing import OneHotEncoder, OrdinalEncoder, StandardScaler, MinMaxScaler, LabelEncoder\n",
    "\n",
    "# Модели\n",
    "from sklearn.linear_model import LinearRegression, LogisticRegression\n",
    "from sklearn.neighbors import KNeighborsClassifier\n",
    "from sklearn.tree import DecisionTreeClassifier, DecisionTreeRegressor\n",
    "from sklearn.ensemble import RandomForestRegressor, RandomForestClassifier\n",
    "from sklearn.svm import SVC\n",
    "from sklearn.dummy import DummyClassifier\n",
    "\n",
    "# Для пайплайна\n",
    "from sklearn.pipeline import Pipeline\n",
    "from sklearn.compose import ColumnTransformer\n",
    "from sklearn.impute import SimpleImputer\n",
    "\n",
    "# Прочие\n",
    "from phik import phik_matrix\n",
    "from phik.report import plot_correlation_matrix\n",
    "from sklearn.metrics import roc_auc_score, make_scorer\n",
    "from sklearn.model_selection import RandomizedSearchCV\n",
    "import shap"
   ]
  },
  {
   "cell_type": "code",
   "execution_count": 5,
   "id": "0e235d62-b1c5-476b-9a91-088e8b6b505f",
   "metadata": {},
   "outputs": [],
   "source": [
    "def about_df(list_df):\n",
    "    '''выводит информацию о всех датасетах из списка list_df'''\n",
    "    for c, i in enumerate(list_df):\n",
    "        display(\"**** DATASET_\"+str(c+1)+' ****')\n",
    "        display(i.info())\n",
    "        display(i.describe().round(2).T)\n",
    "        display(f'Количество дубликатов: {i.duplicated().sum()}')\n",
    "        display('Количество пропущенных значений:', i.isnull().sum())\n",
    "        print()"
   ]
  },
  {
   "cell_type": "markdown",
   "id": "715668b5-c6f2-471d-a1e3-9f0ee1913260",
   "metadata": {},
   "source": [
    "## Описание данных"
   ]
  },
  {
   "cell_type": "markdown",
   "id": "1fc8aa62-7bd2-4d4b-9705-b06ddf5ce6a1",
   "metadata": {},
   "source": [
    "Загрузим данные:"
   ]
  },
  {
   "cell_type": "code",
   "execution_count": 8,
   "id": "08e60756-190f-4d7b-92de-3fb27fe426c4",
   "metadata": {},
   "outputs": [],
   "source": [
    "data_train = pd.read_csv('/home/ilya/Рабочий стол/YPrac/10.Kaggle/kaggle_startups_train_28062024.csv')\n",
    "data_test = pd.read_csv('/home/ilya/Рабочий стол/YPrac/10.Kaggle/kaggle_startups_test_28062024.csv')"
   ]
  },
  {
   "cell_type": "code",
   "execution_count": 9,
   "id": "1b9c0441-de18-4c28-aa1e-91eded22545e",
   "metadata": {},
   "outputs": [
    {
     "data": {
      "text/html": [
       "<div>\n",
       "<style scoped>\n",
       "    .dataframe tbody tr th:only-of-type {\n",
       "        vertical-align: middle;\n",
       "    }\n",
       "\n",
       "    .dataframe tbody tr th {\n",
       "        vertical-align: top;\n",
       "    }\n",
       "\n",
       "    .dataframe thead th {\n",
       "        text-align: right;\n",
       "    }\n",
       "</style>\n",
       "<table border=\"1\" class=\"dataframe\">\n",
       "  <thead>\n",
       "    <tr style=\"text-align: right;\">\n",
       "      <th></th>\n",
       "      <th>name</th>\n",
       "      <th>category_list</th>\n",
       "      <th>funding_total_usd</th>\n",
       "      <th>status</th>\n",
       "      <th>country_code</th>\n",
       "      <th>state_code</th>\n",
       "      <th>region</th>\n",
       "      <th>city</th>\n",
       "      <th>funding_rounds</th>\n",
       "      <th>founded_at</th>\n",
       "      <th>first_funding_at</th>\n",
       "      <th>last_funding_at</th>\n",
       "      <th>closed_at</th>\n",
       "    </tr>\n",
       "  </thead>\n",
       "  <tbody>\n",
       "    <tr>\n",
       "      <th>0</th>\n",
       "      <td>Lunchgate</td>\n",
       "      <td>Online Reservations|Restaurants</td>\n",
       "      <td>828626.0</td>\n",
       "      <td>operating</td>\n",
       "      <td>CHE</td>\n",
       "      <td>25</td>\n",
       "      <td>Zurich</td>\n",
       "      <td>Zürich</td>\n",
       "      <td>2</td>\n",
       "      <td>2009-10-17</td>\n",
       "      <td>2011-05-01</td>\n",
       "      <td>2014-12-01</td>\n",
       "      <td>NaN</td>\n",
       "    </tr>\n",
       "    <tr>\n",
       "      <th>1</th>\n",
       "      <td>EarLens</td>\n",
       "      <td>Manufacturing|Medical|Medical Devices</td>\n",
       "      <td>42935019.0</td>\n",
       "      <td>operating</td>\n",
       "      <td>USA</td>\n",
       "      <td>CA</td>\n",
       "      <td>SF Bay Area</td>\n",
       "      <td>Redwood City</td>\n",
       "      <td>4</td>\n",
       "      <td>2005-01-01</td>\n",
       "      <td>2010-05-04</td>\n",
       "      <td>2014-02-25</td>\n",
       "      <td>NaN</td>\n",
       "    </tr>\n",
       "    <tr>\n",
       "      <th>2</th>\n",
       "      <td>Reviva Pharmaceuticals</td>\n",
       "      <td>Biotechnology</td>\n",
       "      <td>35456381.0</td>\n",
       "      <td>operating</td>\n",
       "      <td>USA</td>\n",
       "      <td>CA</td>\n",
       "      <td>SF Bay Area</td>\n",
       "      <td>San Jose</td>\n",
       "      <td>3</td>\n",
       "      <td>2006-01-01</td>\n",
       "      <td>2012-08-20</td>\n",
       "      <td>2014-07-02</td>\n",
       "      <td>NaN</td>\n",
       "    </tr>\n",
       "    <tr>\n",
       "      <th>3</th>\n",
       "      <td>Sancilio and Company</td>\n",
       "      <td>Health Care</td>\n",
       "      <td>22250000.0</td>\n",
       "      <td>operating</td>\n",
       "      <td>NaN</td>\n",
       "      <td>NaN</td>\n",
       "      <td>NaN</td>\n",
       "      <td>NaN</td>\n",
       "      <td>3</td>\n",
       "      <td>2004-01-01</td>\n",
       "      <td>2011-09-01</td>\n",
       "      <td>2014-07-18</td>\n",
       "      <td>NaN</td>\n",
       "    </tr>\n",
       "    <tr>\n",
       "      <th>4</th>\n",
       "      <td>WireTough Cylinders</td>\n",
       "      <td>Manufacturing</td>\n",
       "      <td>NaN</td>\n",
       "      <td>operating</td>\n",
       "      <td>USA</td>\n",
       "      <td>VA</td>\n",
       "      <td>VA - Other</td>\n",
       "      <td>Bristol</td>\n",
       "      <td>1</td>\n",
       "      <td>2010-05-12</td>\n",
       "      <td>2012-02-01</td>\n",
       "      <td>2012-02-01</td>\n",
       "      <td>NaN</td>\n",
       "    </tr>\n",
       "  </tbody>\n",
       "</table>\n",
       "</div>"
      ],
      "text/plain": [
       "                     name                          category_list  \\\n",
       "0               Lunchgate        Online Reservations|Restaurants   \n",
       "1                 EarLens  Manufacturing|Medical|Medical Devices   \n",
       "2  Reviva Pharmaceuticals                          Biotechnology   \n",
       "3    Sancilio and Company                            Health Care   \n",
       "4     WireTough Cylinders                          Manufacturing   \n",
       "\n",
       "   funding_total_usd     status country_code state_code       region  \\\n",
       "0           828626.0  operating          CHE         25       Zurich   \n",
       "1         42935019.0  operating          USA         CA  SF Bay Area   \n",
       "2         35456381.0  operating          USA         CA  SF Bay Area   \n",
       "3         22250000.0  operating          NaN        NaN          NaN   \n",
       "4                NaN  operating          USA         VA   VA - Other   \n",
       "\n",
       "           city  funding_rounds  founded_at first_funding_at last_funding_at  \\\n",
       "0        Zürich               2  2009-10-17       2011-05-01      2014-12-01   \n",
       "1  Redwood City               4  2005-01-01       2010-05-04      2014-02-25   \n",
       "2      San Jose               3  2006-01-01       2012-08-20      2014-07-02   \n",
       "3           NaN               3  2004-01-01       2011-09-01      2014-07-18   \n",
       "4       Bristol               1  2010-05-12       2012-02-01      2012-02-01   \n",
       "\n",
       "  closed_at  \n",
       "0       NaN  \n",
       "1       NaN  \n",
       "2       NaN  \n",
       "3       NaN  \n",
       "4       NaN  "
      ]
     },
     "metadata": {},
     "output_type": "display_data"
    },
    {
     "data": {
      "text/html": [
       "<div>\n",
       "<style scoped>\n",
       "    .dataframe tbody tr th:only-of-type {\n",
       "        vertical-align: middle;\n",
       "    }\n",
       "\n",
       "    .dataframe tbody tr th {\n",
       "        vertical-align: top;\n",
       "    }\n",
       "\n",
       "    .dataframe thead th {\n",
       "        text-align: right;\n",
       "    }\n",
       "</style>\n",
       "<table border=\"1\" class=\"dataframe\">\n",
       "  <thead>\n",
       "    <tr style=\"text-align: right;\">\n",
       "      <th></th>\n",
       "      <th>name</th>\n",
       "      <th>category_list</th>\n",
       "      <th>funding_total_usd</th>\n",
       "      <th>country_code</th>\n",
       "      <th>state_code</th>\n",
       "      <th>region</th>\n",
       "      <th>city</th>\n",
       "      <th>funding_rounds</th>\n",
       "      <th>first_funding_at</th>\n",
       "      <th>last_funding_at</th>\n",
       "      <th>lifetime</th>\n",
       "    </tr>\n",
       "  </thead>\n",
       "  <tbody>\n",
       "    <tr>\n",
       "      <th>0</th>\n",
       "      <td>Crystalsol</td>\n",
       "      <td>Clean Technology</td>\n",
       "      <td>2819200.0</td>\n",
       "      <td>NIC</td>\n",
       "      <td>17</td>\n",
       "      <td>NaN</td>\n",
       "      <td>NaN</td>\n",
       "      <td>1</td>\n",
       "      <td>2009-07-01</td>\n",
       "      <td>2009-07-01</td>\n",
       "      <td>3501</td>\n",
       "    </tr>\n",
       "    <tr>\n",
       "      <th>1</th>\n",
       "      <td>JBI Fish &amp; Wings</td>\n",
       "      <td>Hospitality</td>\n",
       "      <td>NaN</td>\n",
       "      <td>USA</td>\n",
       "      <td>TN</td>\n",
       "      <td>TN - Other</td>\n",
       "      <td>Humboldt</td>\n",
       "      <td>1</td>\n",
       "      <td>2010-07-28</td>\n",
       "      <td>2010-07-28</td>\n",
       "      <td>2717</td>\n",
       "    </tr>\n",
       "    <tr>\n",
       "      <th>2</th>\n",
       "      <td>COINPLUS</td>\n",
       "      <td>Finance</td>\n",
       "      <td>428257.0</td>\n",
       "      <td>LUX</td>\n",
       "      <td>3</td>\n",
       "      <td>Esch-sur-alzette</td>\n",
       "      <td>Esch-sur-alzette</td>\n",
       "      <td>2</td>\n",
       "      <td>2014-05-15</td>\n",
       "      <td>2014-09-18</td>\n",
       "      <td>1295</td>\n",
       "    </tr>\n",
       "    <tr>\n",
       "      <th>3</th>\n",
       "      <td>Imagine Communications</td>\n",
       "      <td>Software|Video|Video Streaming</td>\n",
       "      <td>34700000.0</td>\n",
       "      <td>USA</td>\n",
       "      <td>CA</td>\n",
       "      <td>San Diego</td>\n",
       "      <td>San Diego</td>\n",
       "      <td>4</td>\n",
       "      <td>2005-01-01</td>\n",
       "      <td>2010-04-20</td>\n",
       "      <td>4748</td>\n",
       "    </tr>\n",
       "    <tr>\n",
       "      <th>4</th>\n",
       "      <td>DNA13</td>\n",
       "      <td>Software</td>\n",
       "      <td>4530000.0</td>\n",
       "      <td>CAN</td>\n",
       "      <td>ON</td>\n",
       "      <td>Ottawa</td>\n",
       "      <td>Ottawa</td>\n",
       "      <td>1</td>\n",
       "      <td>2007-05-08</td>\n",
       "      <td>2007-05-08</td>\n",
       "      <td>6209</td>\n",
       "    </tr>\n",
       "  </tbody>\n",
       "</table>\n",
       "</div>"
      ],
      "text/plain": [
       "                     name                   category_list  funding_total_usd  \\\n",
       "0              Crystalsol                Clean Technology          2819200.0   \n",
       "1        JBI Fish & Wings                     Hospitality                NaN   \n",
       "2                COINPLUS                         Finance           428257.0   \n",
       "3  Imagine Communications  Software|Video|Video Streaming         34700000.0   \n",
       "4                   DNA13                        Software          4530000.0   \n",
       "\n",
       "  country_code state_code            region              city  funding_rounds  \\\n",
       "0          NIC         17               NaN               NaN               1   \n",
       "1          USA         TN        TN - Other          Humboldt               1   \n",
       "2          LUX          3  Esch-sur-alzette  Esch-sur-alzette               2   \n",
       "3          USA         CA         San Diego         San Diego               4   \n",
       "4          CAN         ON            Ottawa            Ottawa               1   \n",
       "\n",
       "  first_funding_at last_funding_at  lifetime  \n",
       "0       2009-07-01      2009-07-01      3501  \n",
       "1       2010-07-28      2010-07-28      2717  \n",
       "2       2014-05-15      2014-09-18      1295  \n",
       "3       2005-01-01      2010-04-20      4748  \n",
       "4       2007-05-08      2007-05-08      6209  "
      ]
     },
     "metadata": {},
     "output_type": "display_data"
    }
   ],
   "source": [
    "display(data_train.head(), data_test.head())"
   ]
  },
  {
   "cell_type": "markdown",
   "id": "61bd6c58-0873-40f9-b6be-a3dab7d4efcb",
   "metadata": {},
   "source": [
    "Выведем информацию о датасетах:"
   ]
  },
  {
   "cell_type": "code",
   "execution_count": 11,
   "id": "5357aa90-32df-4c13-a87a-1dd16e9cd5ba",
   "metadata": {},
   "outputs": [
    {
     "data": {
      "text/plain": [
       "'**** DATASET_1 ****'"
      ]
     },
     "metadata": {},
     "output_type": "display_data"
    },
    {
     "name": "stdout",
     "output_type": "stream",
     "text": [
      "<class 'pandas.core.frame.DataFrame'>\n",
      "RangeIndex: 52516 entries, 0 to 52515\n",
      "Data columns (total 13 columns):\n",
      " #   Column             Non-Null Count  Dtype  \n",
      "---  ------             --------------  -----  \n",
      " 0   name               52515 non-null  object \n",
      " 1   category_list      50051 non-null  object \n",
      " 2   funding_total_usd  42447 non-null  float64\n",
      " 3   status             52516 non-null  object \n",
      " 4   country_code       47014 non-null  object \n",
      " 5   state_code         45753 non-null  object \n",
      " 6   region             46157 non-null  object \n",
      " 7   city               46157 non-null  object \n",
      " 8   funding_rounds     52516 non-null  int64  \n",
      " 9   founded_at         52516 non-null  object \n",
      " 10  first_funding_at   52516 non-null  object \n",
      " 11  last_funding_at    52516 non-null  object \n",
      " 12  closed_at          4917 non-null   object \n",
      "dtypes: float64(1), int64(1), object(11)\n",
      "memory usage: 5.2+ MB\n"
     ]
    },
    {
     "data": {
      "text/plain": [
       "None"
      ]
     },
     "metadata": {},
     "output_type": "display_data"
    },
    {
     "data": {
      "text/html": [
       "<div>\n",
       "<style scoped>\n",
       "    .dataframe tbody tr th:only-of-type {\n",
       "        vertical-align: middle;\n",
       "    }\n",
       "\n",
       "    .dataframe tbody tr th {\n",
       "        vertical-align: top;\n",
       "    }\n",
       "\n",
       "    .dataframe thead th {\n",
       "        text-align: right;\n",
       "    }\n",
       "</style>\n",
       "<table border=\"1\" class=\"dataframe\">\n",
       "  <thead>\n",
       "    <tr style=\"text-align: right;\">\n",
       "      <th></th>\n",
       "      <th>count</th>\n",
       "      <th>mean</th>\n",
       "      <th>std</th>\n",
       "      <th>min</th>\n",
       "      <th>25%</th>\n",
       "      <th>50%</th>\n",
       "      <th>75%</th>\n",
       "      <th>max</th>\n",
       "    </tr>\n",
       "  </thead>\n",
       "  <tbody>\n",
       "    <tr>\n",
       "      <th>funding_total_usd</th>\n",
       "      <td>42447.0</td>\n",
       "      <td>18247480.66</td>\n",
       "      <td>1.871173e+08</td>\n",
       "      <td>1.0</td>\n",
       "      <td>336027.5</td>\n",
       "      <td>2000000.0</td>\n",
       "      <td>10000000.0</td>\n",
       "      <td>3.007950e+10</td>\n",
       "    </tr>\n",
       "    <tr>\n",
       "      <th>funding_rounds</th>\n",
       "      <td>52516.0</td>\n",
       "      <td>1.74</td>\n",
       "      <td>1.370000e+00</td>\n",
       "      <td>1.0</td>\n",
       "      <td>1.0</td>\n",
       "      <td>1.0</td>\n",
       "      <td>2.0</td>\n",
       "      <td>1.900000e+01</td>\n",
       "    </tr>\n",
       "  </tbody>\n",
       "</table>\n",
       "</div>"
      ],
      "text/plain": [
       "                     count         mean           std  min       25%  \\\n",
       "funding_total_usd  42447.0  18247480.66  1.871173e+08  1.0  336027.5   \n",
       "funding_rounds     52516.0         1.74  1.370000e+00  1.0       1.0   \n",
       "\n",
       "                         50%         75%           max  \n",
       "funding_total_usd  2000000.0  10000000.0  3.007950e+10  \n",
       "funding_rounds           1.0         2.0  1.900000e+01  "
      ]
     },
     "metadata": {},
     "output_type": "display_data"
    },
    {
     "data": {
      "text/plain": [
       "'Количество дубликатов: 0'"
      ]
     },
     "metadata": {},
     "output_type": "display_data"
    },
    {
     "data": {
      "text/plain": [
       "'Количество пропущенных значений:'"
      ]
     },
     "metadata": {},
     "output_type": "display_data"
    },
    {
     "data": {
      "text/plain": [
       "name                     1\n",
       "category_list         2465\n",
       "funding_total_usd    10069\n",
       "status                   0\n",
       "country_code          5502\n",
       "state_code            6763\n",
       "region                6359\n",
       "city                  6359\n",
       "funding_rounds           0\n",
       "founded_at               0\n",
       "first_funding_at         0\n",
       "last_funding_at          0\n",
       "closed_at            47599\n",
       "dtype: int64"
      ]
     },
     "metadata": {},
     "output_type": "display_data"
    },
    {
     "name": "stdout",
     "output_type": "stream",
     "text": [
      "\n"
     ]
    },
    {
     "data": {
      "text/plain": [
       "'**** DATASET_2 ****'"
      ]
     },
     "metadata": {},
     "output_type": "display_data"
    },
    {
     "name": "stdout",
     "output_type": "stream",
     "text": [
      "<class 'pandas.core.frame.DataFrame'>\n",
      "RangeIndex: 13125 entries, 0 to 13124\n",
      "Data columns (total 11 columns):\n",
      " #   Column             Non-Null Count  Dtype  \n",
      "---  ------             --------------  -----  \n",
      " 0   name               13125 non-null  object \n",
      " 1   category_list      12534 non-null  object \n",
      " 2   funding_total_usd  10547 non-null  float64\n",
      " 3   country_code       11743 non-null  object \n",
      " 4   state_code         11430 non-null  object \n",
      " 5   region             11536 non-null  object \n",
      " 6   city               11538 non-null  object \n",
      " 7   funding_rounds     13125 non-null  int64  \n",
      " 8   first_funding_at   13125 non-null  object \n",
      " 9   last_funding_at    13125 non-null  object \n",
      " 10  lifetime           13125 non-null  int64  \n",
      "dtypes: float64(1), int64(2), object(8)\n",
      "memory usage: 1.1+ MB\n"
     ]
    },
    {
     "data": {
      "text/plain": [
       "None"
      ]
     },
     "metadata": {},
     "output_type": "display_data"
    },
    {
     "data": {
      "text/html": [
       "<div>\n",
       "<style scoped>\n",
       "    .dataframe tbody tr th:only-of-type {\n",
       "        vertical-align: middle;\n",
       "    }\n",
       "\n",
       "    .dataframe tbody tr th {\n",
       "        vertical-align: top;\n",
       "    }\n",
       "\n",
       "    .dataframe thead th {\n",
       "        text-align: right;\n",
       "    }\n",
       "</style>\n",
       "<table border=\"1\" class=\"dataframe\">\n",
       "  <thead>\n",
       "    <tr style=\"text-align: right;\">\n",
       "      <th></th>\n",
       "      <th>count</th>\n",
       "      <th>mean</th>\n",
       "      <th>std</th>\n",
       "      <th>min</th>\n",
       "      <th>25%</th>\n",
       "      <th>50%</th>\n",
       "      <th>75%</th>\n",
       "      <th>max</th>\n",
       "    </tr>\n",
       "  </thead>\n",
       "  <tbody>\n",
       "    <tr>\n",
       "      <th>funding_total_usd</th>\n",
       "      <td>10547.0</td>\n",
       "      <td>16549102.70</td>\n",
       "      <td>92172825.63</td>\n",
       "      <td>1.0</td>\n",
       "      <td>320000.0</td>\n",
       "      <td>2000000.0</td>\n",
       "      <td>10000000.0</td>\n",
       "      <td>4.715000e+09</td>\n",
       "    </tr>\n",
       "    <tr>\n",
       "      <th>funding_rounds</th>\n",
       "      <td>13125.0</td>\n",
       "      <td>1.71</td>\n",
       "      <td>1.32</td>\n",
       "      <td>1.0</td>\n",
       "      <td>1.0</td>\n",
       "      <td>1.0</td>\n",
       "      <td>2.0</td>\n",
       "      <td>1.500000e+01</td>\n",
       "    </tr>\n",
       "    <tr>\n",
       "      <th>lifetime</th>\n",
       "      <td>13125.0</td>\n",
       "      <td>3097.61</td>\n",
       "      <td>2128.36</td>\n",
       "      <td>52.0</td>\n",
       "      <td>1726.0</td>\n",
       "      <td>2526.0</td>\n",
       "      <td>3866.0</td>\n",
       "      <td>1.716700e+04</td>\n",
       "    </tr>\n",
       "  </tbody>\n",
       "</table>\n",
       "</div>"
      ],
      "text/plain": [
       "                     count         mean          std   min       25%  \\\n",
       "funding_total_usd  10547.0  16549102.70  92172825.63   1.0  320000.0   \n",
       "funding_rounds     13125.0         1.71         1.32   1.0       1.0   \n",
       "lifetime           13125.0      3097.61      2128.36  52.0    1726.0   \n",
       "\n",
       "                         50%         75%           max  \n",
       "funding_total_usd  2000000.0  10000000.0  4.715000e+09  \n",
       "funding_rounds           1.0         2.0  1.500000e+01  \n",
       "lifetime              2526.0      3866.0  1.716700e+04  "
      ]
     },
     "metadata": {},
     "output_type": "display_data"
    },
    {
     "data": {
      "text/plain": [
       "'Количество дубликатов: 0'"
      ]
     },
     "metadata": {},
     "output_type": "display_data"
    },
    {
     "data": {
      "text/plain": [
       "'Количество пропущенных значений:'"
      ]
     },
     "metadata": {},
     "output_type": "display_data"
    },
    {
     "data": {
      "text/plain": [
       "name                    0\n",
       "category_list         591\n",
       "funding_total_usd    2578\n",
       "country_code         1382\n",
       "state_code           1695\n",
       "region               1589\n",
       "city                 1587\n",
       "funding_rounds          0\n",
       "first_funding_at        0\n",
       "last_funding_at         0\n",
       "lifetime                0\n",
       "dtype: int64"
      ]
     },
     "metadata": {},
     "output_type": "display_data"
    },
    {
     "name": "stdout",
     "output_type": "stream",
     "text": [
      "\n"
     ]
    }
   ],
   "source": [
    "about_df([data_train, data_test])"
   ]
  },
  {
   "cell_type": "markdown",
   "id": "20a1824c-cd01-4f91-a85e-ac5f02bce95f",
   "metadata": {},
   "source": [
    "**Вывод по разделу**\n",
    "<br>Датасет 1 (data_train) состоит из 52516 строк. Колонки `name`, `category_list`, `funding_total_usd`, `country_code`, `state_code`, `region`, `city` и `closed_at` содержат пропуски. Их особенно много в колонке `closed_at`.\n",
    "<br>Датасет 2 (data_test) состоит из 13125 строк. Колонки `category_list`, `funding_total_usd`, `country_code`, `state_code`, `region`, `city` содержат пропуски. Колонки `closed_at` в тестовых данных нет, что логично, поскольку о компаниях из тестовых данных неизвестно, закрылись ли они вообще. Колонки `founded_at` в тестовых данных тоже нет, зато есть колонка `lifetime`, которой нет в тренировочных данных. По сути эта колонка есть разница между `closed_at` и `founded_at`, поэтому в будущих разделах просто заменим дату основания и закрытия стартапа в data_train на время его существования (`lifetime`)."
   ]
  },
  {
   "cell_type": "markdown",
   "id": "a1d8b7bc-f263-47d4-bbb8-078715e3e487",
   "metadata": {},
   "source": [
    "## Предобработка данных "
   ]
  },
  {
   "cell_type": "markdown",
   "id": "83a77c8a-33a0-403f-be37-d00c48aee461",
   "metadata": {},
   "source": [
    "Посмотрим, сколько уникальных значений есть в колонках датафреймов"
   ]
  },
  {
   "cell_type": "code",
   "execution_count": 15,
   "id": "61de73fd-7a18-42ea-9cf3-b2621b59f604",
   "metadata": {},
   "outputs": [
    {
     "name": "stdout",
     "output_type": "stream",
     "text": [
      "name --- 52515\n",
      "category_list --- 22105\n",
      "funding_total_usd --- 15551\n",
      "status --- 2\n",
      "country_code --- 134\n",
      "state_code --- 300\n",
      "region --- 1036\n",
      "city --- 4477\n",
      "funding_rounds --- 19\n",
      "founded_at --- 5402\n",
      "first_funding_at --- 4603\n",
      "last_funding_at --- 4305\n",
      "closed_at --- 3008\n",
      "\n",
      "name --- 13125\n",
      "category_list --- 6206\n",
      "funding_total_usd --- 4549\n",
      "country_code --- 96\n",
      "state_code --- 235\n",
      "region --- 688\n",
      "city --- 2117\n",
      "funding_rounds --- 15\n",
      "first_funding_at --- 3299\n",
      "last_funding_at --- 3021\n",
      "lifetime --- 3456\n"
     ]
    }
   ],
   "source": [
    "for i in data_train.columns.to_list():\n",
    "    print(i, '---', data_train[i].nunique())\n",
    "print()\n",
    "for i in data_test.columns.to_list():\n",
    "    print(i, '---', data_test[i].nunique())"
   ]
  },
  {
   "cell_type": "markdown",
   "id": "ef747323-10bd-4ace-93dc-8b670de8ad48",
   "metadata": {},
   "source": [
    "В обоих датасетах имеется много уникальных значений в колонках `category_list`, `country_code`, `state_code`, `region`, `city`. Большое количество уникальных категориальных значений может ухудшить обобщающую способность разрабатываемой модели, поэтому постараемся их сократить. В тоже время колонка `name` содержит уникальное значение в каждой строке, как и должно быть. Пройдемся по каждой колонке отдельно, изменения будем вностить в копии исходных датасетов. Задно будем заполнять пропущенные значения."
   ]
  },
  {
   "cell_type": "code",
   "execution_count": 17,
   "id": "45ab4a8b-4449-4f92-9ced-5fbe060adfa5",
   "metadata": {},
   "outputs": [],
   "source": [
    "data_1 = data_train.copy()   # Копирование датасета\n",
    "data_2 = data_test.copy()"
   ]
  },
  {
   "cell_type": "code",
   "execution_count": 18,
   "id": "5182138a-4210-43df-bc9a-4db030ba90ef",
   "metadata": {},
   "outputs": [
    {
     "data": {
      "text/plain": [
       "name                     1\n",
       "category_list         2465\n",
       "funding_total_usd    10069\n",
       "status                   0\n",
       "country_code          5502\n",
       "state_code            6763\n",
       "region                6359\n",
       "city                  6359\n",
       "funding_rounds           0\n",
       "founded_at               0\n",
       "first_funding_at         0\n",
       "last_funding_at          0\n",
       "closed_at            47599\n",
       "dtype: int64"
      ]
     },
     "execution_count": 18,
     "metadata": {},
     "output_type": "execute_result"
    }
   ],
   "source": [
    "data_1.isna().sum()"
   ]
  },
  {
   "cell_type": "code",
   "execution_count": 19,
   "id": "c2e5294d-2997-4504-8d25-4a7614f1ac3f",
   "metadata": {},
   "outputs": [
    {
     "data": {
      "text/plain": [
       "name                    0\n",
       "category_list         591\n",
       "funding_total_usd    2578\n",
       "country_code         1382\n",
       "state_code           1695\n",
       "region               1589\n",
       "city                 1587\n",
       "funding_rounds          0\n",
       "first_funding_at        0\n",
       "last_funding_at         0\n",
       "lifetime                0\n",
       "dtype: int64"
      ]
     },
     "execution_count": 19,
     "metadata": {},
     "output_type": "execute_result"
    }
   ],
   "source": [
    "data_2.isna().sum()"
   ]
  },
  {
   "cell_type": "markdown",
   "id": "91af9834-7301-4f67-8a28-d84534880fac",
   "metadata": {},
   "source": [
    "### name"
   ]
  },
  {
   "cell_type": "markdown",
   "id": "4fdc38ce-bbb6-49a5-b05c-eaea511ebacb",
   "metadata": {},
   "source": [
    "Проверим дубликаты без учета регистра в колонке `name` в обоих датасетах:"
   ]
  },
  {
   "cell_type": "code",
   "execution_count": 22,
   "id": "f092f46c-27d0-491b-bedc-b8310ced0602",
   "metadata": {},
   "outputs": [
    {
     "name": "stdout",
     "output_type": "stream",
     "text": [
      "Всего уник. значений - 52515 ; Уник.значений в одном регистре - 52472 ; Разница - 43\n",
      "Всего уник. значений - 13125 ; Уник.значений в одном регистре - 13123 ; Разница - 2\n"
     ]
    }
   ],
   "source": [
    "for i in [data_1, data_2]:\n",
    "    print('Всего уник. значений -', i['name'].nunique(), '; Уник.значений в одном регистре -', i['name'].str.lower().nunique(), \n",
    "          '; Разница -', i['name'].nunique() - i['name'].str.lower().nunique())"
   ]
  },
  {
   "cell_type": "code",
   "execution_count": 23,
   "id": "d2a0cd73-9e76-4c60-aa27-6b0278c6b83d",
   "metadata": {},
   "outputs": [
    {
     "name": "stdout",
     "output_type": "stream",
     "text": [
      "0\n",
      "0\n"
     ]
    },
    {
     "name": "stderr",
     "output_type": "stream",
     "text": [
      "/tmp/ipykernel_23911/2278361068.py:4: SettingWithCopyWarning: \n",
      "A value is trying to be set on a copy of a slice from a DataFrame.\n",
      "Try using .loc[row_indexer,col_indexer] = value instead\n",
      "\n",
      "See the caveats in the documentation: https://pandas.pydata.org/pandas-docs/stable/user_guide/indexing.html#returning-a-view-versus-a-copy\n",
      "  temp['name'] = temp['name'].str.lower()                    # Уменьшение регистра в названиях компаний\n",
      "/tmp/ipykernel_23911/2278361068.py:4: SettingWithCopyWarning: \n",
      "A value is trying to be set on a copy of a slice from a DataFrame.\n",
      "Try using .loc[row_indexer,col_indexer] = value instead\n",
      "\n",
      "See the caveats in the documentation: https://pandas.pydata.org/pandas-docs/stable/user_guide/indexing.html#returning-a-view-versus-a-copy\n",
      "  temp['name'] = temp['name'].str.lower()                    # Уменьшение регистра в названиях компаний\n"
     ]
    }
   ],
   "source": [
    "for i in [data_1, data_2]:\n",
    "    mask = i['name'].str.lower().duplicated(keep=False)        # Поиск строк с дублирующимися значениями в названии (без учета регистра)\n",
    "    temp = i[mask]                                             # Новый датафрейм с отфильтрованными данными\n",
    "    temp['name'] = temp['name'].str.lower()                    # Уменьшение регистра в названиях компаний\n",
    "    print(temp[['name', 'funding_total_usd', 'city']].duplicated().sum())    # Подсчет дубликатов по 3м колонкам"
   ]
  },
  {
   "cell_type": "markdown",
   "id": "b844665f-8ccb-4f94-95b9-8b3523864e9e",
   "metadata": {},
   "source": [
    "Как видно, компании, которые отличаются регистром в названии это разные компании"
   ]
  },
  {
   "cell_type": "code",
   "execution_count": 25,
   "id": "8fa2a7ac-6f0f-4ab2-8abb-9ea417ddc6fd",
   "metadata": {},
   "outputs": [
    {
     "data": {
      "text/html": [
       "<div>\n",
       "<style scoped>\n",
       "    .dataframe tbody tr th:only-of-type {\n",
       "        vertical-align: middle;\n",
       "    }\n",
       "\n",
       "    .dataframe tbody tr th {\n",
       "        vertical-align: top;\n",
       "    }\n",
       "\n",
       "    .dataframe thead th {\n",
       "        text-align: right;\n",
       "    }\n",
       "</style>\n",
       "<table border=\"1\" class=\"dataframe\">\n",
       "  <thead>\n",
       "    <tr style=\"text-align: right;\">\n",
       "      <th></th>\n",
       "      <th>name</th>\n",
       "      <th>category_list</th>\n",
       "      <th>funding_total_usd</th>\n",
       "      <th>status</th>\n",
       "      <th>country_code</th>\n",
       "      <th>state_code</th>\n",
       "      <th>region</th>\n",
       "      <th>city</th>\n",
       "      <th>funding_rounds</th>\n",
       "      <th>founded_at</th>\n",
       "      <th>first_funding_at</th>\n",
       "      <th>last_funding_at</th>\n",
       "      <th>closed_at</th>\n",
       "    </tr>\n",
       "  </thead>\n",
       "  <tbody>\n",
       "    <tr>\n",
       "      <th>3291</th>\n",
       "      <td>NaN</td>\n",
       "      <td>Startups</td>\n",
       "      <td>25000.0</td>\n",
       "      <td>closed</td>\n",
       "      <td>USA</td>\n",
       "      <td>OR</td>\n",
       "      <td>Portland, Oregon</td>\n",
       "      <td>Portland</td>\n",
       "      <td>1</td>\n",
       "      <td>2011-10-01</td>\n",
       "      <td>2012-03-01</td>\n",
       "      <td>2012-03-01</td>\n",
       "      <td>2013-06-03</td>\n",
       "    </tr>\n",
       "  </tbody>\n",
       "</table>\n",
       "</div>"
      ],
      "text/plain": [
       "     name category_list  funding_total_usd  status country_code state_code  \\\n",
       "3291  NaN      Startups            25000.0  closed          USA         OR   \n",
       "\n",
       "                region      city  funding_rounds  founded_at first_funding_at  \\\n",
       "3291  Portland, Oregon  Portland               1  2011-10-01       2012-03-01   \n",
       "\n",
       "     last_funding_at   closed_at  \n",
       "3291      2012-03-01  2013-06-03  "
      ]
     },
     "execution_count": 25,
     "metadata": {},
     "output_type": "execute_result"
    }
   ],
   "source": [
    "data_1[data_1['name'].isnull()]    # Пропущенное значение"
   ]
  },
  {
   "cell_type": "code",
   "execution_count": 26,
   "id": "9aac9719-ecc0-4b8a-832f-9199e8189e63",
   "metadata": {},
   "outputs": [
    {
     "data": {
      "text/html": [
       "<div>\n",
       "<style scoped>\n",
       "    .dataframe tbody tr th:only-of-type {\n",
       "        vertical-align: middle;\n",
       "    }\n",
       "\n",
       "    .dataframe tbody tr th {\n",
       "        vertical-align: top;\n",
       "    }\n",
       "\n",
       "    .dataframe thead th {\n",
       "        text-align: right;\n",
       "    }\n",
       "</style>\n",
       "<table border=\"1\" class=\"dataframe\">\n",
       "  <thead>\n",
       "    <tr style=\"text-align: right;\">\n",
       "      <th></th>\n",
       "      <th>name</th>\n",
       "      <th>category_list</th>\n",
       "      <th>funding_total_usd</th>\n",
       "      <th>status</th>\n",
       "      <th>country_code</th>\n",
       "      <th>state_code</th>\n",
       "      <th>region</th>\n",
       "      <th>city</th>\n",
       "      <th>funding_rounds</th>\n",
       "      <th>founded_at</th>\n",
       "      <th>first_funding_at</th>\n",
       "      <th>last_funding_at</th>\n",
       "      <th>closed_at</th>\n",
       "    </tr>\n",
       "  </thead>\n",
       "  <tbody>\n",
       "    <tr>\n",
       "      <th>3291</th>\n",
       "      <td>unknown</td>\n",
       "      <td>Startups</td>\n",
       "      <td>25000.0</td>\n",
       "      <td>closed</td>\n",
       "      <td>USA</td>\n",
       "      <td>OR</td>\n",
       "      <td>Portland, Oregon</td>\n",
       "      <td>Portland</td>\n",
       "      <td>1</td>\n",
       "      <td>2011-10-01</td>\n",
       "      <td>2012-03-01</td>\n",
       "      <td>2012-03-01</td>\n",
       "      <td>2013-06-03</td>\n",
       "    </tr>\n",
       "  </tbody>\n",
       "</table>\n",
       "</div>"
      ],
      "text/plain": [
       "         name category_list  funding_total_usd  status country_code  \\\n",
       "3291  unknown      Startups            25000.0  closed          USA   \n",
       "\n",
       "     state_code            region      city  funding_rounds  founded_at  \\\n",
       "3291         OR  Portland, Oregon  Portland               1  2011-10-01   \n",
       "\n",
       "     first_funding_at last_funding_at   closed_at  \n",
       "3291       2012-03-01      2012-03-01  2013-06-03  "
      ]
     },
     "execution_count": 26,
     "metadata": {},
     "output_type": "execute_result"
    }
   ],
   "source": [
    "data_1['name'] = data_1['name'].fillna('unknown')   # Заполним пропуск в колонке значением unknown\n",
    "data_1.query('name == \"unknown\"')"
   ]
  },
  {
   "cell_type": "markdown",
   "id": "02c2f3b5-cf38-40ff-a020-8efbc1ac12d8",
   "metadata": {},
   "source": [
    "### category_list"
   ]
  },
  {
   "cell_type": "markdown",
   "id": "69274b32-b2a9-40ea-bbdf-88bb0398a34b",
   "metadata": {},
   "source": [
    "Можно заметить, что в колонке со сферой деятельности (`category_list`) у некоторых компаний есть несколько значений. Оставим первую сферу как основную, а также создадим колонку, в которой укажем, сколько всего сфер есть у компании, и сделаем ее 3-ей по порядку (для удобства). "
   ]
  },
  {
   "cell_type": "code",
   "execution_count": 29,
   "id": "fa675014-a2de-45db-8169-9d64bfcec2fc",
   "metadata": {},
   "outputs": [],
   "source": [
    "for i in [data_1, data_2]:\n",
    "    i['category_list'] = i['category_list'].str.replace('|', ';')   # Заменим '|' на ';' для удобства подсчета категорий\n",
    "    temp = i['category_list'].str.count(';') + 1\n",
    "    i.insert(2, 'category_cnt', temp)"
   ]
  },
  {
   "cell_type": "code",
   "execution_count": 30,
   "id": "e887d774-1b0e-4fc9-9660-d1d38aeb120a",
   "metadata": {},
   "outputs": [
    {
     "data": {
      "text/html": [
       "<div>\n",
       "<style scoped>\n",
       "    .dataframe tbody tr th:only-of-type {\n",
       "        vertical-align: middle;\n",
       "    }\n",
       "\n",
       "    .dataframe tbody tr th {\n",
       "        vertical-align: top;\n",
       "    }\n",
       "\n",
       "    .dataframe thead th {\n",
       "        text-align: right;\n",
       "    }\n",
       "</style>\n",
       "<table border=\"1\" class=\"dataframe\">\n",
       "  <thead>\n",
       "    <tr style=\"text-align: right;\">\n",
       "      <th></th>\n",
       "      <th>name</th>\n",
       "      <th>category_list</th>\n",
       "      <th>category_cnt</th>\n",
       "      <th>funding_total_usd</th>\n",
       "      <th>status</th>\n",
       "      <th>country_code</th>\n",
       "      <th>state_code</th>\n",
       "      <th>region</th>\n",
       "      <th>city</th>\n",
       "      <th>funding_rounds</th>\n",
       "      <th>founded_at</th>\n",
       "      <th>first_funding_at</th>\n",
       "      <th>last_funding_at</th>\n",
       "      <th>closed_at</th>\n",
       "    </tr>\n",
       "  </thead>\n",
       "  <tbody>\n",
       "    <tr>\n",
       "      <th>0</th>\n",
       "      <td>Lunchgate</td>\n",
       "      <td>Online Reservations;Restaurants</td>\n",
       "      <td>2.0</td>\n",
       "      <td>828626.0</td>\n",
       "      <td>operating</td>\n",
       "      <td>CHE</td>\n",
       "      <td>25</td>\n",
       "      <td>Zurich</td>\n",
       "      <td>Zürich</td>\n",
       "      <td>2</td>\n",
       "      <td>2009-10-17</td>\n",
       "      <td>2011-05-01</td>\n",
       "      <td>2014-12-01</td>\n",
       "      <td>NaN</td>\n",
       "    </tr>\n",
       "    <tr>\n",
       "      <th>1</th>\n",
       "      <td>EarLens</td>\n",
       "      <td>Manufacturing;Medical;Medical Devices</td>\n",
       "      <td>3.0</td>\n",
       "      <td>42935019.0</td>\n",
       "      <td>operating</td>\n",
       "      <td>USA</td>\n",
       "      <td>CA</td>\n",
       "      <td>SF Bay Area</td>\n",
       "      <td>Redwood City</td>\n",
       "      <td>4</td>\n",
       "      <td>2005-01-01</td>\n",
       "      <td>2010-05-04</td>\n",
       "      <td>2014-02-25</td>\n",
       "      <td>NaN</td>\n",
       "    </tr>\n",
       "  </tbody>\n",
       "</table>\n",
       "</div>"
      ],
      "text/plain": [
       "        name                          category_list  category_cnt  \\\n",
       "0  Lunchgate        Online Reservations;Restaurants           2.0   \n",
       "1    EarLens  Manufacturing;Medical;Medical Devices           3.0   \n",
       "\n",
       "   funding_total_usd     status country_code state_code       region  \\\n",
       "0           828626.0  operating          CHE         25       Zurich   \n",
       "1         42935019.0  operating          USA         CA  SF Bay Area   \n",
       "\n",
       "           city  funding_rounds  founded_at first_funding_at last_funding_at  \\\n",
       "0        Zürich               2  2009-10-17       2011-05-01      2014-12-01   \n",
       "1  Redwood City               4  2005-01-01       2010-05-04      2014-02-25   \n",
       "\n",
       "  closed_at  \n",
       "0       NaN  \n",
       "1       NaN  "
      ]
     },
     "metadata": {},
     "output_type": "display_data"
    },
    {
     "data": {
      "text/html": [
       "<div>\n",
       "<style scoped>\n",
       "    .dataframe tbody tr th:only-of-type {\n",
       "        vertical-align: middle;\n",
       "    }\n",
       "\n",
       "    .dataframe tbody tr th {\n",
       "        vertical-align: top;\n",
       "    }\n",
       "\n",
       "    .dataframe thead th {\n",
       "        text-align: right;\n",
       "    }\n",
       "</style>\n",
       "<table border=\"1\" class=\"dataframe\">\n",
       "  <thead>\n",
       "    <tr style=\"text-align: right;\">\n",
       "      <th></th>\n",
       "      <th>name</th>\n",
       "      <th>category_list</th>\n",
       "      <th>category_cnt</th>\n",
       "      <th>funding_total_usd</th>\n",
       "      <th>country_code</th>\n",
       "      <th>state_code</th>\n",
       "      <th>region</th>\n",
       "      <th>city</th>\n",
       "      <th>funding_rounds</th>\n",
       "      <th>first_funding_at</th>\n",
       "      <th>last_funding_at</th>\n",
       "      <th>lifetime</th>\n",
       "    </tr>\n",
       "  </thead>\n",
       "  <tbody>\n",
       "    <tr>\n",
       "      <th>0</th>\n",
       "      <td>Crystalsol</td>\n",
       "      <td>Clean Technology</td>\n",
       "      <td>1.0</td>\n",
       "      <td>2819200.0</td>\n",
       "      <td>NIC</td>\n",
       "      <td>17</td>\n",
       "      <td>NaN</td>\n",
       "      <td>NaN</td>\n",
       "      <td>1</td>\n",
       "      <td>2009-07-01</td>\n",
       "      <td>2009-07-01</td>\n",
       "      <td>3501</td>\n",
       "    </tr>\n",
       "    <tr>\n",
       "      <th>1</th>\n",
       "      <td>JBI Fish &amp; Wings</td>\n",
       "      <td>Hospitality</td>\n",
       "      <td>1.0</td>\n",
       "      <td>NaN</td>\n",
       "      <td>USA</td>\n",
       "      <td>TN</td>\n",
       "      <td>TN - Other</td>\n",
       "      <td>Humboldt</td>\n",
       "      <td>1</td>\n",
       "      <td>2010-07-28</td>\n",
       "      <td>2010-07-28</td>\n",
       "      <td>2717</td>\n",
       "    </tr>\n",
       "  </tbody>\n",
       "</table>\n",
       "</div>"
      ],
      "text/plain": [
       "               name     category_list  category_cnt  funding_total_usd  \\\n",
       "0        Crystalsol  Clean Technology           1.0          2819200.0   \n",
       "1  JBI Fish & Wings       Hospitality           1.0                NaN   \n",
       "\n",
       "  country_code state_code      region      city  funding_rounds  \\\n",
       "0          NIC         17         NaN       NaN               1   \n",
       "1          USA         TN  TN - Other  Humboldt               1   \n",
       "\n",
       "  first_funding_at last_funding_at  lifetime  \n",
       "0       2009-07-01      2009-07-01      3501  \n",
       "1       2010-07-28      2010-07-28      2717  "
      ]
     },
     "metadata": {},
     "output_type": "display_data"
    }
   ],
   "source": [
    "display(data_1.head(2), data_2.head(2))"
   ]
  },
  {
   "cell_type": "code",
   "execution_count": 31,
   "id": "c493b2a3-f7d2-4d25-978b-391e7f755277",
   "metadata": {},
   "outputs": [],
   "source": [
    "for i in [data_1, data_2]:\n",
    "    i[['category_list', 'category_list_2']] = i['category_list'].str.split(';', n=1, expand=True) # отделим 1 категорию от остальных"
   ]
  },
  {
   "cell_type": "code",
   "execution_count": 32,
   "id": "2e16d5cd-68e8-4e1f-bc60-c15dad6a125b",
   "metadata": {},
   "outputs": [],
   "source": [
    "data_1 = data_1.drop('category_list_2', axis=1)                   # Удалим колонку с лишними категориями\n",
    "data_1 = data_1.rename(columns={'category_list': 'category'})     # Переименуем колонку с категорией стартапа в data_train"
   ]
  },
  {
   "cell_type": "code",
   "execution_count": 33,
   "id": "e407fa0a-5bcc-4dc7-94ac-dba28757bdf1",
   "metadata": {},
   "outputs": [],
   "source": [
    "data_2 = data_2.drop('category_list_2', axis=1)                   # Удалим колонку с лишними категориями\n",
    "data_2 = data_2.rename(columns={'category_list': 'category'})     # Переименуем колонку с категорией стартапа в data_test"
   ]
  },
  {
   "cell_type": "code",
   "execution_count": 34,
   "id": "1e4a9877-ffb2-4a2a-92c8-b2ba10b865ad",
   "metadata": {},
   "outputs": [
    {
     "data": {
      "text/html": [
       "<div>\n",
       "<style scoped>\n",
       "    .dataframe tbody tr th:only-of-type {\n",
       "        vertical-align: middle;\n",
       "    }\n",
       "\n",
       "    .dataframe tbody tr th {\n",
       "        vertical-align: top;\n",
       "    }\n",
       "\n",
       "    .dataframe thead th {\n",
       "        text-align: right;\n",
       "    }\n",
       "</style>\n",
       "<table border=\"1\" class=\"dataframe\">\n",
       "  <thead>\n",
       "    <tr style=\"text-align: right;\">\n",
       "      <th></th>\n",
       "      <th>name</th>\n",
       "      <th>category</th>\n",
       "      <th>category_cnt</th>\n",
       "      <th>funding_total_usd</th>\n",
       "      <th>status</th>\n",
       "      <th>country_code</th>\n",
       "      <th>state_code</th>\n",
       "      <th>region</th>\n",
       "      <th>city</th>\n",
       "      <th>funding_rounds</th>\n",
       "      <th>founded_at</th>\n",
       "      <th>first_funding_at</th>\n",
       "      <th>last_funding_at</th>\n",
       "      <th>closed_at</th>\n",
       "    </tr>\n",
       "  </thead>\n",
       "  <tbody>\n",
       "    <tr>\n",
       "      <th>0</th>\n",
       "      <td>Lunchgate</td>\n",
       "      <td>Online Reservations</td>\n",
       "      <td>2.0</td>\n",
       "      <td>828626.0</td>\n",
       "      <td>operating</td>\n",
       "      <td>CHE</td>\n",
       "      <td>25</td>\n",
       "      <td>Zurich</td>\n",
       "      <td>Zürich</td>\n",
       "      <td>2</td>\n",
       "      <td>2009-10-17</td>\n",
       "      <td>2011-05-01</td>\n",
       "      <td>2014-12-01</td>\n",
       "      <td>NaN</td>\n",
       "    </tr>\n",
       "    <tr>\n",
       "      <th>1</th>\n",
       "      <td>EarLens</td>\n",
       "      <td>Manufacturing</td>\n",
       "      <td>3.0</td>\n",
       "      <td>42935019.0</td>\n",
       "      <td>operating</td>\n",
       "      <td>USA</td>\n",
       "      <td>CA</td>\n",
       "      <td>SF Bay Area</td>\n",
       "      <td>Redwood City</td>\n",
       "      <td>4</td>\n",
       "      <td>2005-01-01</td>\n",
       "      <td>2010-05-04</td>\n",
       "      <td>2014-02-25</td>\n",
       "      <td>NaN</td>\n",
       "    </tr>\n",
       "  </tbody>\n",
       "</table>\n",
       "</div>"
      ],
      "text/plain": [
       "        name             category  category_cnt  funding_total_usd     status  \\\n",
       "0  Lunchgate  Online Reservations           2.0           828626.0  operating   \n",
       "1    EarLens        Manufacturing           3.0         42935019.0  operating   \n",
       "\n",
       "  country_code state_code       region          city  funding_rounds  \\\n",
       "0          CHE         25       Zurich        Zürich               2   \n",
       "1          USA         CA  SF Bay Area  Redwood City               4   \n",
       "\n",
       "   founded_at first_funding_at last_funding_at closed_at  \n",
       "0  2009-10-17       2011-05-01      2014-12-01       NaN  \n",
       "1  2005-01-01       2010-05-04      2014-02-25       NaN  "
      ]
     },
     "metadata": {},
     "output_type": "display_data"
    },
    {
     "data": {
      "text/html": [
       "<div>\n",
       "<style scoped>\n",
       "    .dataframe tbody tr th:only-of-type {\n",
       "        vertical-align: middle;\n",
       "    }\n",
       "\n",
       "    .dataframe tbody tr th {\n",
       "        vertical-align: top;\n",
       "    }\n",
       "\n",
       "    .dataframe thead th {\n",
       "        text-align: right;\n",
       "    }\n",
       "</style>\n",
       "<table border=\"1\" class=\"dataframe\">\n",
       "  <thead>\n",
       "    <tr style=\"text-align: right;\">\n",
       "      <th></th>\n",
       "      <th>name</th>\n",
       "      <th>category</th>\n",
       "      <th>category_cnt</th>\n",
       "      <th>funding_total_usd</th>\n",
       "      <th>country_code</th>\n",
       "      <th>state_code</th>\n",
       "      <th>region</th>\n",
       "      <th>city</th>\n",
       "      <th>funding_rounds</th>\n",
       "      <th>first_funding_at</th>\n",
       "      <th>last_funding_at</th>\n",
       "      <th>lifetime</th>\n",
       "    </tr>\n",
       "  </thead>\n",
       "  <tbody>\n",
       "    <tr>\n",
       "      <th>0</th>\n",
       "      <td>Crystalsol</td>\n",
       "      <td>Clean Technology</td>\n",
       "      <td>1.0</td>\n",
       "      <td>2819200.0</td>\n",
       "      <td>NIC</td>\n",
       "      <td>17</td>\n",
       "      <td>NaN</td>\n",
       "      <td>NaN</td>\n",
       "      <td>1</td>\n",
       "      <td>2009-07-01</td>\n",
       "      <td>2009-07-01</td>\n",
       "      <td>3501</td>\n",
       "    </tr>\n",
       "    <tr>\n",
       "      <th>1</th>\n",
       "      <td>JBI Fish &amp; Wings</td>\n",
       "      <td>Hospitality</td>\n",
       "      <td>1.0</td>\n",
       "      <td>NaN</td>\n",
       "      <td>USA</td>\n",
       "      <td>TN</td>\n",
       "      <td>TN - Other</td>\n",
       "      <td>Humboldt</td>\n",
       "      <td>1</td>\n",
       "      <td>2010-07-28</td>\n",
       "      <td>2010-07-28</td>\n",
       "      <td>2717</td>\n",
       "    </tr>\n",
       "  </tbody>\n",
       "</table>\n",
       "</div>"
      ],
      "text/plain": [
       "               name          category  category_cnt  funding_total_usd  \\\n",
       "0        Crystalsol  Clean Technology           1.0          2819200.0   \n",
       "1  JBI Fish & Wings       Hospitality           1.0                NaN   \n",
       "\n",
       "  country_code state_code      region      city  funding_rounds  \\\n",
       "0          NIC         17         NaN       NaN               1   \n",
       "1          USA         TN  TN - Other  Humboldt               1   \n",
       "\n",
       "  first_funding_at last_funding_at  lifetime  \n",
       "0       2009-07-01      2009-07-01      3501  \n",
       "1       2010-07-28      2010-07-28      2717  "
      ]
     },
     "metadata": {},
     "output_type": "display_data"
    }
   ],
   "source": [
    "display(data_1.head(2), data_2.head(2))"
   ]
  },
  {
   "cell_type": "code",
   "execution_count": 35,
   "id": "562eedc6-1c36-4c09-b2da-f746cb5579d6",
   "metadata": {},
   "outputs": [
    {
     "data": {
      "text/plain": [
       "(707, 559)"
      ]
     },
     "execution_count": 35,
     "metadata": {},
     "output_type": "execute_result"
    }
   ],
   "source": [
    "data_1.category.nunique(), data_2.category.nunique()"
   ]
  },
  {
   "cell_type": "raw",
   "id": "d8a996f2-cc27-418e-a39b-418f9dbc27dc",
   "metadata": {},
   "source": [
    "Количество категорий уменьшилось. Но все-равно в категориях есть одни и те же сферы которые имеют разные названия, например \"Oil\", \"Oil and Gas\", \"Oil & Gas\". Приведем подобные названия к одному. Для этого посмотрим, как выглядят категории с одинаковым первым словом."
   ]
  },
  {
   "cell_type": "code",
   "execution_count": 36,
   "id": "158986b8-1e08-4ceb-8594-08029e498c46",
   "metadata": {},
   "outputs": [
    {
     "data": {
      "text/plain": [
       "(0, 0)"
      ]
     },
     "execution_count": 36,
     "metadata": {},
     "output_type": "execute_result"
    }
   ],
   "source": [
    "data_1['category'] = data_1['category'].fillna('unknown')   # Заполним пропуск в колонке значением unknown для 1ого датафрейма\n",
    "data_2['category'] = data_2['category'].fillna('unknown')   # Заполним пропуск в колонке значением unknown для 2ого датафрейма\n",
    "data_1.category.isna().sum(), data_2.category.isna().sum()"
   ]
  },
  {
   "cell_type": "raw",
   "id": "d7794f84-a084-41e6-9cfd-cddf97f104ab",
   "metadata": {},
   "source": [
    "temp = data_1.category.unique()"
   ]
  },
  {
   "cell_type": "raw",
   "id": "af4d8727-8f8c-419d-814a-171ceb71b6d9",
   "metadata": {},
   "source": [
    "temp = [x for x in temp if str(x) != 'nan']"
   ]
  },
  {
   "cell_type": "raw",
   "id": "4429c371-6d06-40f0-93a4-c2aff9a2bc6c",
   "metadata": {},
   "source": [
    "first_words = [i.split()[0] for i in d]"
   ]
  },
  {
   "cell_type": "raw",
   "id": "b335350a-205d-42ca-80a2-270fd75e8b39",
   "metadata": {
    "scrolled": true
   },
   "source": [
    "first_words"
   ]
  },
  {
   "cell_type": "raw",
   "id": "1dfb5089-cbb7-4c83-84dd-a42753ba7a52",
   "metadata": {
    "scrolled": true
   },
   "source": [
    "for i in range(len(first_words)):\n",
    "    lst = []\n",
    "    for j in range(len(temp)):\n",
    "        if first_words[i] in temp[j]:\n",
    "            lst.append(temp[j])\n",
    "    print(lst)"
   ]
  },
  {
   "cell_type": "markdown",
   "id": "5c673892-f2d6-4b43-b8bc-ecfc56a11af6",
   "metadata": {},
   "source": [
    "### category_cnt"
   ]
  },
  {
   "cell_type": "markdown",
   "id": "702bd067-3cb5-4cb8-9d91-4084c0c841ab",
   "metadata": {},
   "source": [
    "В данной колонке пропуски заполним нулями и изменим тип на числовой:"
   ]
  },
  {
   "cell_type": "code",
   "execution_count": 39,
   "id": "9f13040a-6577-4a7d-a42c-2936a2b72d82",
   "metadata": {},
   "outputs": [
    {
     "data": {
      "text/plain": [
       "(0, 0)"
      ]
     },
     "execution_count": 39,
     "metadata": {},
     "output_type": "execute_result"
    }
   ],
   "source": [
    "data_1['category_cnt'] = data_1['category_cnt'].fillna(0)   # Заполним пропуски в колонке значением 0 для 1ого датафрейма\n",
    "data_2['category_cnt'] = data_2['category_cnt'].fillna(0)   # Заполним пропуски в колонке значением 0 для 2ого датафрейма\n",
    "data_1.category.isna().sum(), data_2.category.isna().sum()"
   ]
  },
  {
   "cell_type": "code",
   "execution_count": 40,
   "id": "569de957-1f56-4041-bd2c-0e4f5ca0a3ee",
   "metadata": {},
   "outputs": [],
   "source": [
    "for i in [data_1, data_2]:\n",
    "    i['category_cnt'] = i['category_cnt'].astype(int)       # Смена типа в двух датафреймах"
   ]
  },
  {
   "cell_type": "code",
   "execution_count": 41,
   "id": "43583177-4517-45de-a744-e5c4247a345f",
   "metadata": {},
   "outputs": [
    {
     "data": {
      "text/html": [
       "<div>\n",
       "<style scoped>\n",
       "    .dataframe tbody tr th:only-of-type {\n",
       "        vertical-align: middle;\n",
       "    }\n",
       "\n",
       "    .dataframe tbody tr th {\n",
       "        vertical-align: top;\n",
       "    }\n",
       "\n",
       "    .dataframe thead th {\n",
       "        text-align: right;\n",
       "    }\n",
       "</style>\n",
       "<table border=\"1\" class=\"dataframe\">\n",
       "  <thead>\n",
       "    <tr style=\"text-align: right;\">\n",
       "      <th></th>\n",
       "      <th>name</th>\n",
       "      <th>category</th>\n",
       "      <th>category_cnt</th>\n",
       "      <th>funding_total_usd</th>\n",
       "      <th>status</th>\n",
       "      <th>country_code</th>\n",
       "      <th>state_code</th>\n",
       "      <th>region</th>\n",
       "      <th>city</th>\n",
       "      <th>funding_rounds</th>\n",
       "      <th>founded_at</th>\n",
       "      <th>first_funding_at</th>\n",
       "      <th>last_funding_at</th>\n",
       "      <th>closed_at</th>\n",
       "    </tr>\n",
       "  </thead>\n",
       "  <tbody>\n",
       "    <tr>\n",
       "      <th>0</th>\n",
       "      <td>Lunchgate</td>\n",
       "      <td>Online Reservations</td>\n",
       "      <td>2</td>\n",
       "      <td>828626.0</td>\n",
       "      <td>operating</td>\n",
       "      <td>CHE</td>\n",
       "      <td>25</td>\n",
       "      <td>Zurich</td>\n",
       "      <td>Zürich</td>\n",
       "      <td>2</td>\n",
       "      <td>2009-10-17</td>\n",
       "      <td>2011-05-01</td>\n",
       "      <td>2014-12-01</td>\n",
       "      <td>NaN</td>\n",
       "    </tr>\n",
       "    <tr>\n",
       "      <th>1</th>\n",
       "      <td>EarLens</td>\n",
       "      <td>Manufacturing</td>\n",
       "      <td>3</td>\n",
       "      <td>42935019.0</td>\n",
       "      <td>operating</td>\n",
       "      <td>USA</td>\n",
       "      <td>CA</td>\n",
       "      <td>SF Bay Area</td>\n",
       "      <td>Redwood City</td>\n",
       "      <td>4</td>\n",
       "      <td>2005-01-01</td>\n",
       "      <td>2010-05-04</td>\n",
       "      <td>2014-02-25</td>\n",
       "      <td>NaN</td>\n",
       "    </tr>\n",
       "    <tr>\n",
       "      <th>2</th>\n",
       "      <td>Reviva Pharmaceuticals</td>\n",
       "      <td>Biotechnology</td>\n",
       "      <td>1</td>\n",
       "      <td>35456381.0</td>\n",
       "      <td>operating</td>\n",
       "      <td>USA</td>\n",
       "      <td>CA</td>\n",
       "      <td>SF Bay Area</td>\n",
       "      <td>San Jose</td>\n",
       "      <td>3</td>\n",
       "      <td>2006-01-01</td>\n",
       "      <td>2012-08-20</td>\n",
       "      <td>2014-07-02</td>\n",
       "      <td>NaN</td>\n",
       "    </tr>\n",
       "  </tbody>\n",
       "</table>\n",
       "</div>"
      ],
      "text/plain": [
       "                     name             category  category_cnt  \\\n",
       "0               Lunchgate  Online Reservations             2   \n",
       "1                 EarLens        Manufacturing             3   \n",
       "2  Reviva Pharmaceuticals        Biotechnology             1   \n",
       "\n",
       "   funding_total_usd     status country_code state_code       region  \\\n",
       "0           828626.0  operating          CHE         25       Zurich   \n",
       "1         42935019.0  operating          USA         CA  SF Bay Area   \n",
       "2         35456381.0  operating          USA         CA  SF Bay Area   \n",
       "\n",
       "           city  funding_rounds  founded_at first_funding_at last_funding_at  \\\n",
       "0        Zürich               2  2009-10-17       2011-05-01      2014-12-01   \n",
       "1  Redwood City               4  2005-01-01       2010-05-04      2014-02-25   \n",
       "2      San Jose               3  2006-01-01       2012-08-20      2014-07-02   \n",
       "\n",
       "  closed_at  \n",
       "0       NaN  \n",
       "1       NaN  \n",
       "2       NaN  "
      ]
     },
     "metadata": {},
     "output_type": "display_data"
    },
    {
     "data": {
      "text/html": [
       "<div>\n",
       "<style scoped>\n",
       "    .dataframe tbody tr th:only-of-type {\n",
       "        vertical-align: middle;\n",
       "    }\n",
       "\n",
       "    .dataframe tbody tr th {\n",
       "        vertical-align: top;\n",
       "    }\n",
       "\n",
       "    .dataframe thead th {\n",
       "        text-align: right;\n",
       "    }\n",
       "</style>\n",
       "<table border=\"1\" class=\"dataframe\">\n",
       "  <thead>\n",
       "    <tr style=\"text-align: right;\">\n",
       "      <th></th>\n",
       "      <th>name</th>\n",
       "      <th>category</th>\n",
       "      <th>category_cnt</th>\n",
       "      <th>funding_total_usd</th>\n",
       "      <th>country_code</th>\n",
       "      <th>state_code</th>\n",
       "      <th>region</th>\n",
       "      <th>city</th>\n",
       "      <th>funding_rounds</th>\n",
       "      <th>first_funding_at</th>\n",
       "      <th>last_funding_at</th>\n",
       "      <th>lifetime</th>\n",
       "    </tr>\n",
       "  </thead>\n",
       "  <tbody>\n",
       "    <tr>\n",
       "      <th>0</th>\n",
       "      <td>Crystalsol</td>\n",
       "      <td>Clean Technology</td>\n",
       "      <td>1</td>\n",
       "      <td>2819200.0</td>\n",
       "      <td>NIC</td>\n",
       "      <td>17</td>\n",
       "      <td>NaN</td>\n",
       "      <td>NaN</td>\n",
       "      <td>1</td>\n",
       "      <td>2009-07-01</td>\n",
       "      <td>2009-07-01</td>\n",
       "      <td>3501</td>\n",
       "    </tr>\n",
       "    <tr>\n",
       "      <th>1</th>\n",
       "      <td>JBI Fish &amp; Wings</td>\n",
       "      <td>Hospitality</td>\n",
       "      <td>1</td>\n",
       "      <td>NaN</td>\n",
       "      <td>USA</td>\n",
       "      <td>TN</td>\n",
       "      <td>TN - Other</td>\n",
       "      <td>Humboldt</td>\n",
       "      <td>1</td>\n",
       "      <td>2010-07-28</td>\n",
       "      <td>2010-07-28</td>\n",
       "      <td>2717</td>\n",
       "    </tr>\n",
       "    <tr>\n",
       "      <th>2</th>\n",
       "      <td>COINPLUS</td>\n",
       "      <td>Finance</td>\n",
       "      <td>1</td>\n",
       "      <td>428257.0</td>\n",
       "      <td>LUX</td>\n",
       "      <td>3</td>\n",
       "      <td>Esch-sur-alzette</td>\n",
       "      <td>Esch-sur-alzette</td>\n",
       "      <td>2</td>\n",
       "      <td>2014-05-15</td>\n",
       "      <td>2014-09-18</td>\n",
       "      <td>1295</td>\n",
       "    </tr>\n",
       "  </tbody>\n",
       "</table>\n",
       "</div>"
      ],
      "text/plain": [
       "               name          category  category_cnt  funding_total_usd  \\\n",
       "0        Crystalsol  Clean Technology             1          2819200.0   \n",
       "1  JBI Fish & Wings       Hospitality             1                NaN   \n",
       "2          COINPLUS           Finance             1           428257.0   \n",
       "\n",
       "  country_code state_code            region              city  funding_rounds  \\\n",
       "0          NIC         17               NaN               NaN               1   \n",
       "1          USA         TN        TN - Other          Humboldt               1   \n",
       "2          LUX          3  Esch-sur-alzette  Esch-sur-alzette               2   \n",
       "\n",
       "  first_funding_at last_funding_at  lifetime  \n",
       "0       2009-07-01      2009-07-01      3501  \n",
       "1       2010-07-28      2010-07-28      2717  \n",
       "2       2014-05-15      2014-09-18      1295  "
      ]
     },
     "metadata": {},
     "output_type": "display_data"
    }
   ],
   "source": [
    "display(data_1.head(3), data_2.head(3))"
   ]
  },
  {
   "cell_type": "markdown",
   "id": "f382b5d1-c2d5-4297-b553-c456a8bee978",
   "metadata": {},
   "source": [
    "### funding_total_usd"
   ]
  },
  {
   "cell_type": "markdown",
   "id": "48f180e4-ac86-41f0-9514-910644aba982",
   "metadata": {},
   "source": [
    "В данной колонке пропуски заполним медианным значением, а саму колонку приведем к типу int:"
   ]
  },
  {
   "cell_type": "code",
   "execution_count": 44,
   "id": "940f45a5-6f3c-4bca-be68-51f5f647ed19",
   "metadata": {},
   "outputs": [
    {
     "data": {
      "text/plain": [
       "2000000.0"
      ]
     },
     "execution_count": 44,
     "metadata": {},
     "output_type": "execute_result"
    }
   ],
   "source": [
    "data_1['funding_total_usd'].median()"
   ]
  },
  {
   "cell_type": "code",
   "execution_count": 45,
   "id": "f0871fb9-1756-4be3-84d4-c56c8e62027d",
   "metadata": {},
   "outputs": [
    {
     "data": {
      "text/plain": [
       "(0, 0)"
      ]
     },
     "execution_count": 45,
     "metadata": {},
     "output_type": "execute_result"
    }
   ],
   "source": [
    "data_1['funding_total_usd'] = data_1['funding_total_usd'].fillna(data_1['funding_total_usd'].median())   # Заполним пропуски медианой для 1ого датафрейма\n",
    "data_2['funding_total_usd'] = data_2['funding_total_usd'].fillna(data_2['funding_total_usd'].median())   # Заполним пропуски медианой для 2ого датафрейма\n",
    "data_1.funding_total_usd.isna().sum(), data_2.funding_total_usd.isna().sum()"
   ]
  },
  {
   "cell_type": "code",
   "execution_count": 46,
   "id": "8acb5693-80e0-4e8f-83bd-c3e5745ab8bf",
   "metadata": {},
   "outputs": [],
   "source": [
    "for i in [data_1, data_2]:\n",
    "    i['funding_total_usd'] = i['funding_total_usd'].astype(int)   # Смена типа в двух датафреймах"
   ]
  },
  {
   "cell_type": "code",
   "execution_count": 47,
   "id": "95e807ba-52a7-4905-b245-b14488f03836",
   "metadata": {},
   "outputs": [
    {
     "data": {
      "text/html": [
       "<div>\n",
       "<style scoped>\n",
       "    .dataframe tbody tr th:only-of-type {\n",
       "        vertical-align: middle;\n",
       "    }\n",
       "\n",
       "    .dataframe tbody tr th {\n",
       "        vertical-align: top;\n",
       "    }\n",
       "\n",
       "    .dataframe thead th {\n",
       "        text-align: right;\n",
       "    }\n",
       "</style>\n",
       "<table border=\"1\" class=\"dataframe\">\n",
       "  <thead>\n",
       "    <tr style=\"text-align: right;\">\n",
       "      <th></th>\n",
       "      <th>name</th>\n",
       "      <th>category</th>\n",
       "      <th>category_cnt</th>\n",
       "      <th>funding_total_usd</th>\n",
       "      <th>status</th>\n",
       "      <th>country_code</th>\n",
       "      <th>state_code</th>\n",
       "      <th>region</th>\n",
       "      <th>city</th>\n",
       "      <th>funding_rounds</th>\n",
       "      <th>founded_at</th>\n",
       "      <th>first_funding_at</th>\n",
       "      <th>last_funding_at</th>\n",
       "      <th>closed_at</th>\n",
       "    </tr>\n",
       "  </thead>\n",
       "  <tbody>\n",
       "    <tr>\n",
       "      <th>0</th>\n",
       "      <td>Lunchgate</td>\n",
       "      <td>Online Reservations</td>\n",
       "      <td>2</td>\n",
       "      <td>828626</td>\n",
       "      <td>operating</td>\n",
       "      <td>CHE</td>\n",
       "      <td>25</td>\n",
       "      <td>Zurich</td>\n",
       "      <td>Zürich</td>\n",
       "      <td>2</td>\n",
       "      <td>2009-10-17</td>\n",
       "      <td>2011-05-01</td>\n",
       "      <td>2014-12-01</td>\n",
       "      <td>NaN</td>\n",
       "    </tr>\n",
       "    <tr>\n",
       "      <th>1</th>\n",
       "      <td>EarLens</td>\n",
       "      <td>Manufacturing</td>\n",
       "      <td>3</td>\n",
       "      <td>42935019</td>\n",
       "      <td>operating</td>\n",
       "      <td>USA</td>\n",
       "      <td>CA</td>\n",
       "      <td>SF Bay Area</td>\n",
       "      <td>Redwood City</td>\n",
       "      <td>4</td>\n",
       "      <td>2005-01-01</td>\n",
       "      <td>2010-05-04</td>\n",
       "      <td>2014-02-25</td>\n",
       "      <td>NaN</td>\n",
       "    </tr>\n",
       "    <tr>\n",
       "      <th>2</th>\n",
       "      <td>Reviva Pharmaceuticals</td>\n",
       "      <td>Biotechnology</td>\n",
       "      <td>1</td>\n",
       "      <td>35456381</td>\n",
       "      <td>operating</td>\n",
       "      <td>USA</td>\n",
       "      <td>CA</td>\n",
       "      <td>SF Bay Area</td>\n",
       "      <td>San Jose</td>\n",
       "      <td>3</td>\n",
       "      <td>2006-01-01</td>\n",
       "      <td>2012-08-20</td>\n",
       "      <td>2014-07-02</td>\n",
       "      <td>NaN</td>\n",
       "    </tr>\n",
       "  </tbody>\n",
       "</table>\n",
       "</div>"
      ],
      "text/plain": [
       "                     name             category  category_cnt  \\\n",
       "0               Lunchgate  Online Reservations             2   \n",
       "1                 EarLens        Manufacturing             3   \n",
       "2  Reviva Pharmaceuticals        Biotechnology             1   \n",
       "\n",
       "   funding_total_usd     status country_code state_code       region  \\\n",
       "0             828626  operating          CHE         25       Zurich   \n",
       "1           42935019  operating          USA         CA  SF Bay Area   \n",
       "2           35456381  operating          USA         CA  SF Bay Area   \n",
       "\n",
       "           city  funding_rounds  founded_at first_funding_at last_funding_at  \\\n",
       "0        Zürich               2  2009-10-17       2011-05-01      2014-12-01   \n",
       "1  Redwood City               4  2005-01-01       2010-05-04      2014-02-25   \n",
       "2      San Jose               3  2006-01-01       2012-08-20      2014-07-02   \n",
       "\n",
       "  closed_at  \n",
       "0       NaN  \n",
       "1       NaN  \n",
       "2       NaN  "
      ]
     },
     "metadata": {},
     "output_type": "display_data"
    },
    {
     "data": {
      "text/html": [
       "<div>\n",
       "<style scoped>\n",
       "    .dataframe tbody tr th:only-of-type {\n",
       "        vertical-align: middle;\n",
       "    }\n",
       "\n",
       "    .dataframe tbody tr th {\n",
       "        vertical-align: top;\n",
       "    }\n",
       "\n",
       "    .dataframe thead th {\n",
       "        text-align: right;\n",
       "    }\n",
       "</style>\n",
       "<table border=\"1\" class=\"dataframe\">\n",
       "  <thead>\n",
       "    <tr style=\"text-align: right;\">\n",
       "      <th></th>\n",
       "      <th>name</th>\n",
       "      <th>category</th>\n",
       "      <th>category_cnt</th>\n",
       "      <th>funding_total_usd</th>\n",
       "      <th>country_code</th>\n",
       "      <th>state_code</th>\n",
       "      <th>region</th>\n",
       "      <th>city</th>\n",
       "      <th>funding_rounds</th>\n",
       "      <th>first_funding_at</th>\n",
       "      <th>last_funding_at</th>\n",
       "      <th>lifetime</th>\n",
       "    </tr>\n",
       "  </thead>\n",
       "  <tbody>\n",
       "    <tr>\n",
       "      <th>0</th>\n",
       "      <td>Crystalsol</td>\n",
       "      <td>Clean Technology</td>\n",
       "      <td>1</td>\n",
       "      <td>2819200</td>\n",
       "      <td>NIC</td>\n",
       "      <td>17</td>\n",
       "      <td>NaN</td>\n",
       "      <td>NaN</td>\n",
       "      <td>1</td>\n",
       "      <td>2009-07-01</td>\n",
       "      <td>2009-07-01</td>\n",
       "      <td>3501</td>\n",
       "    </tr>\n",
       "    <tr>\n",
       "      <th>1</th>\n",
       "      <td>JBI Fish &amp; Wings</td>\n",
       "      <td>Hospitality</td>\n",
       "      <td>1</td>\n",
       "      <td>2000000</td>\n",
       "      <td>USA</td>\n",
       "      <td>TN</td>\n",
       "      <td>TN - Other</td>\n",
       "      <td>Humboldt</td>\n",
       "      <td>1</td>\n",
       "      <td>2010-07-28</td>\n",
       "      <td>2010-07-28</td>\n",
       "      <td>2717</td>\n",
       "    </tr>\n",
       "    <tr>\n",
       "      <th>2</th>\n",
       "      <td>COINPLUS</td>\n",
       "      <td>Finance</td>\n",
       "      <td>1</td>\n",
       "      <td>428257</td>\n",
       "      <td>LUX</td>\n",
       "      <td>3</td>\n",
       "      <td>Esch-sur-alzette</td>\n",
       "      <td>Esch-sur-alzette</td>\n",
       "      <td>2</td>\n",
       "      <td>2014-05-15</td>\n",
       "      <td>2014-09-18</td>\n",
       "      <td>1295</td>\n",
       "    </tr>\n",
       "  </tbody>\n",
       "</table>\n",
       "</div>"
      ],
      "text/plain": [
       "               name          category  category_cnt  funding_total_usd  \\\n",
       "0        Crystalsol  Clean Technology             1            2819200   \n",
       "1  JBI Fish & Wings       Hospitality             1            2000000   \n",
       "2          COINPLUS           Finance             1             428257   \n",
       "\n",
       "  country_code state_code            region              city  funding_rounds  \\\n",
       "0          NIC         17               NaN               NaN               1   \n",
       "1          USA         TN        TN - Other          Humboldt               1   \n",
       "2          LUX          3  Esch-sur-alzette  Esch-sur-alzette               2   \n",
       "\n",
       "  first_funding_at last_funding_at  lifetime  \n",
       "0       2009-07-01      2009-07-01      3501  \n",
       "1       2010-07-28      2010-07-28      2717  \n",
       "2       2014-05-15      2014-09-18      1295  "
      ]
     },
     "metadata": {},
     "output_type": "display_data"
    }
   ],
   "source": [
    "display(data_1.head(3), data_2.head(3))"
   ]
  },
  {
   "cell_type": "markdown",
   "id": "4e313db0-e7fe-4c26-bd3c-4b86a300db11",
   "metadata": {},
   "source": [
    "### country_code, state_code, region, city"
   ]
  },
  {
   "cell_type": "code",
   "execution_count": 49,
   "id": "acb69378-a810-48e6-823c-53ddbcc8086f",
   "metadata": {},
   "outputs": [
    {
     "data": {
      "text/plain": [
       "array(['CHE', 'USA', nan, 'GBR', 'RUS', 'ESP', 'FRA', 'SWE', 'IND', 'KOR',\n",
       "       'AUS', 'TWN', 'CHN', 'HUN', 'CAN', 'FIN', 'BRA', 'EGY', 'PRT',\n",
       "       'ISR', 'CHL', 'SVK', 'NLD', 'ARG', 'ARE', 'JPN', 'IRL', 'DEU',\n",
       "       'LBN', 'EST', 'IDN', 'BEL', 'MEX', 'DNK', 'ITA', 'GRC', 'ROM',\n",
       "       'TUR', 'SGP', 'SAU', 'MYS', 'NGA', 'QAT', 'VNM', 'BGR', 'GHA',\n",
       "       'UGA', 'JOR', 'AUT', 'PAK', 'NZL', 'HKG', 'ZAF', 'LVA', 'NOR',\n",
       "       'HRV', 'VEN', 'PER', 'LUX', 'SVN', 'POL', 'PHL', 'NIC', 'CZE',\n",
       "       'ISL', 'PAN', 'URY', 'BGD', 'MCO', 'GTM', 'THA', 'TTO', 'UKR',\n",
       "       'KEN', 'CRI', 'DZA', 'LTU', 'CYM', 'MUS', 'BLR', 'SLV', 'COL',\n",
       "       'MLT', 'PSE', 'BLZ', 'CYP', 'MMR', 'MKD', 'KHM', 'GIB', 'SRB',\n",
       "       'DOM', 'BWA', 'BLM', 'PRY', 'BMU', 'TAN', 'LIE', 'GRD', 'UZB',\n",
       "       'GEO', 'SEN', 'ALB', 'ECU', 'MOZ', 'LKA', 'LAO', 'TUN', 'HND',\n",
       "       'ZWE', 'BAH', 'MDA', 'MAF', 'BHR', 'AZE', 'MAR', 'KWT', 'IRN',\n",
       "       'GGY', 'KNA', 'PRI', 'OMN', 'KAZ', 'JAM', 'NPL', 'ARM', 'TGO',\n",
       "       'RWA', 'BRN', 'JEY', 'SOM', 'CMR', 'MNE', 'SYC', 'ZMB'],\n",
       "      dtype=object)"
      ]
     },
     "execution_count": 49,
     "metadata": {},
     "output_type": "execute_result"
    }
   ],
   "source": [
    "data_1.country_code.unique()"
   ]
  },
  {
   "cell_type": "code",
   "execution_count": 50,
   "id": "36752983-446b-4a3e-a9cc-9d6fddc4f021",
   "metadata": {},
   "outputs": [
    {
     "data": {
      "text/plain": [
       "array(['NIC', 'USA', 'LUX', 'CAN', nan, 'MYS', 'DEU', 'GBR', 'FRA', 'ITA',\n",
       "       'CHN', 'ARG', 'NLD', 'IRL', 'AUS', 'CHE', 'CHL', 'ESP', 'IND',\n",
       "       'ISR', 'DNK', 'KOR', 'RUS', 'PHL', 'URY', 'SGP', 'BRA', 'EGY',\n",
       "       'MEX', 'POL', 'VNM', 'AUT', 'EST', 'BEL', 'DMA', 'PRT', 'SWE',\n",
       "       'JOR', 'HUN', 'HKG', 'JPN', 'ZAF', 'COL', 'BGR', 'CZE', 'GRC',\n",
       "       'LTU', 'TWN', 'ISL', 'IDN', 'FIN', 'NOR', 'ARE', 'UKR', 'KEN',\n",
       "       'NGA', 'TUR', 'CRI', 'THA', 'CYP', 'ROM', 'MMR', 'VEN', 'BHR',\n",
       "       'NZL', 'SVK', 'CYM', 'LVA', 'MKD', 'PER', 'AZE', 'BWA', 'BGD',\n",
       "       'ZWE', 'CIV', 'LKA', 'SVN', 'SRB', 'BLR', 'TAN', 'SAU', 'GHA',\n",
       "       'CMR', 'TTO', 'PAK', 'BMU', 'PSE', 'UGA', 'MUS', 'JAM', 'LBN',\n",
       "       'ECU', 'PAN', 'GTM', 'HRV', 'BRB', 'ZMB'], dtype=object)"
      ]
     },
     "execution_count": 50,
     "metadata": {},
     "output_type": "execute_result"
    }
   ],
   "source": [
    "data_2.country_code.unique()"
   ]
  },
  {
   "cell_type": "markdown",
   "id": "25317275-6d35-4091-b69e-dea8526df201",
   "metadata": {},
   "source": [
    "В колонке `country_code` неестественных значений или неявных дубликатов не обнаружено. \n",
    "По сути колонки `country_code`, `state_code`, `region`, `city` представляют собой имена собственные, поэтому в них просто заполним пропуски значением 'unknown'."
   ]
  },
  {
   "cell_type": "code",
   "execution_count": 52,
   "id": "36785e18-65f7-4d47-848c-100cc7d09879",
   "metadata": {},
   "outputs": [
    {
     "name": "stdout",
     "output_type": "stream",
     "text": [
      "Пропуски в обоих датафреймах в колонке country_code - 0 0\n",
      "Пропуски в обоих датафреймах в колонке state_code - 0 0\n",
      "Пропуски в обоих датафреймах в колонке region - 0 0\n",
      "Пропуски в обоих датафреймах в колонке city - 0 0\n"
     ]
    }
   ],
   "source": [
    "cols = ['country_code', 'state_code', 'region', 'city']\n",
    "for i in cols:\n",
    "    data_1[i] = data_1[i].fillna('unknown')   # Заполним пропуски значением unknown для 1ого датафрейма\n",
    "    data_2[i] = data_2[i].fillna('unknown')   # Заполним пропуски значением unknown для 2ого датафрейма\n",
    "    print('Пропуски в обоих датафреймах в колонке', i, '-', data_1[i].isna().sum(), data_2[i].isna().sum())   # Для проверки"
   ]
  },
  {
   "cell_type": "raw",
   "id": "4b46ca16-44e7-4a36-863f-dcb96c682515",
   "metadata": {},
   "source": [
    "dat = list(data_1.country_code.unique()) + list(data_2.country_code.unique())"
   ]
  },
  {
   "cell_type": "raw",
   "id": "8ec897ae-8582-4be1-bdca-4798637bf91e",
   "metadata": {},
   "source": [
    "len(set(dat)), len(data_1.country_code.unique())"
   ]
  },
  {
   "cell_type": "markdown",
   "id": "f1e31bbd-3afe-486b-bb6f-4409509b7bbf",
   "metadata": {},
   "source": [
    "### funding_rounds"
   ]
  },
  {
   "cell_type": "code",
   "execution_count": 54,
   "id": "a4e575a5-54fa-43dd-91fb-30eb56828d11",
   "metadata": {},
   "outputs": [
    {
     "data": {
      "text/plain": [
       "(array([ 2,  4,  3,  1,  5,  7,  9,  6,  8, 10, 11, 12, 15, 13, 16, 17, 14,\n",
       "        18, 19]),\n",
       " array([ 1,  2,  4,  5,  3,  6,  7, 10, 12,  8,  9, 11, 13, 15, 14]))"
      ]
     },
     "execution_count": 54,
     "metadata": {},
     "output_type": "execute_result"
    }
   ],
   "source": [
    "data_1.funding_rounds.unique(), data_2.funding_rounds.unique()"
   ]
  },
  {
   "cell_type": "markdown",
   "id": "69c436b4-75fd-4015-8be9-6d6f36be17ca",
   "metadata": {},
   "source": [
    "Пропусков и необычных значений нет. Корректировать столбец не требуется"
   ]
  },
  {
   "cell_type": "markdown",
   "id": "3fc3ea53-7185-4ac9-8972-d07914687a34",
   "metadata": {},
   "source": [
    "### Колонки с датами"
   ]
  },
  {
   "cell_type": "markdown",
   "id": "c8ebce78-f48c-4078-b800-0d177962de5b",
   "metadata": {},
   "source": [
    "В тестовых данных колонок `founded_at` и `closed_at` нет, зато есть колонка `lifetime`, которая и есть разница между `closed_at` и `founded_at`. Поэтому преобразуем данные колонки в datetime и расчитаем количество дней, сколько стартап смог прожить. Также преобразуем колонки `first_funding_at` и `last_funding_at` в datetime."
   ]
  },
  {
   "cell_type": "code",
   "execution_count": 58,
   "id": "070502be-1d91-48f0-8110-1016497171be",
   "metadata": {},
   "outputs": [
    {
     "data": {
      "text/html": [
       "<div>\n",
       "<style scoped>\n",
       "    .dataframe tbody tr th:only-of-type {\n",
       "        vertical-align: middle;\n",
       "    }\n",
       "\n",
       "    .dataframe tbody tr th {\n",
       "        vertical-align: top;\n",
       "    }\n",
       "\n",
       "    .dataframe thead th {\n",
       "        text-align: right;\n",
       "    }\n",
       "</style>\n",
       "<table border=\"1\" class=\"dataframe\">\n",
       "  <thead>\n",
       "    <tr style=\"text-align: right;\">\n",
       "      <th></th>\n",
       "      <th>name</th>\n",
       "      <th>category</th>\n",
       "      <th>category_cnt</th>\n",
       "      <th>funding_total_usd</th>\n",
       "      <th>status</th>\n",
       "      <th>country_code</th>\n",
       "      <th>state_code</th>\n",
       "      <th>region</th>\n",
       "      <th>city</th>\n",
       "      <th>funding_rounds</th>\n",
       "      <th>founded_at</th>\n",
       "      <th>first_funding_at</th>\n",
       "      <th>last_funding_at</th>\n",
       "      <th>closed_at</th>\n",
       "    </tr>\n",
       "  </thead>\n",
       "  <tbody>\n",
       "    <tr>\n",
       "      <th>0</th>\n",
       "      <td>Lunchgate</td>\n",
       "      <td>Online Reservations</td>\n",
       "      <td>2</td>\n",
       "      <td>828626</td>\n",
       "      <td>operating</td>\n",
       "      <td>CHE</td>\n",
       "      <td>25</td>\n",
       "      <td>Zurich</td>\n",
       "      <td>Zürich</td>\n",
       "      <td>2</td>\n",
       "      <td>2009-10-17</td>\n",
       "      <td>2011-05-01</td>\n",
       "      <td>2014-12-01</td>\n",
       "      <td>NaN</td>\n",
       "    </tr>\n",
       "    <tr>\n",
       "      <th>1</th>\n",
       "      <td>EarLens</td>\n",
       "      <td>Manufacturing</td>\n",
       "      <td>3</td>\n",
       "      <td>42935019</td>\n",
       "      <td>operating</td>\n",
       "      <td>USA</td>\n",
       "      <td>CA</td>\n",
       "      <td>SF Bay Area</td>\n",
       "      <td>Redwood City</td>\n",
       "      <td>4</td>\n",
       "      <td>2005-01-01</td>\n",
       "      <td>2010-05-04</td>\n",
       "      <td>2014-02-25</td>\n",
       "      <td>NaN</td>\n",
       "    </tr>\n",
       "  </tbody>\n",
       "</table>\n",
       "</div>"
      ],
      "text/plain": [
       "        name             category  category_cnt  funding_total_usd     status  \\\n",
       "0  Lunchgate  Online Reservations             2             828626  operating   \n",
       "1    EarLens        Manufacturing             3           42935019  operating   \n",
       "\n",
       "  country_code state_code       region          city  funding_rounds  \\\n",
       "0          CHE         25       Zurich        Zürich               2   \n",
       "1          USA         CA  SF Bay Area  Redwood City               4   \n",
       "\n",
       "   founded_at first_funding_at last_funding_at closed_at  \n",
       "0  2009-10-17       2011-05-01      2014-12-01       NaN  \n",
       "1  2005-01-01       2010-05-04      2014-02-25       NaN  "
      ]
     },
     "execution_count": 58,
     "metadata": {},
     "output_type": "execute_result"
    }
   ],
   "source": [
    "data_1.head(2)"
   ]
  },
  {
   "cell_type": "code",
   "execution_count": 59,
   "id": "acb5119b-caf1-4d79-9c8d-f571c4c30f77",
   "metadata": {},
   "outputs": [],
   "source": [
    "for i in ['founded_at', 'first_funding_at', 'last_funding_at', 'closed_at']:\n",
    "    data_1[i] = pd.to_datetime(data_1[i], format='%Y-%m-%d')\n",
    "\n",
    "for i in ['first_funding_at', 'last_funding_at']:\n",
    "    data_2[i] = pd.to_datetime(data_2[i], format='%Y-%m-%d')"
   ]
  },
  {
   "cell_type": "code",
   "execution_count": 60,
   "id": "a28e4203-11c9-402b-a6e4-0b1ebdcba0ba",
   "metadata": {},
   "outputs": [
    {
     "name": "stdout",
     "output_type": "stream",
     "text": [
      "<class 'pandas.core.frame.DataFrame'>\n",
      "RangeIndex: 52516 entries, 0 to 52515\n",
      "Data columns (total 14 columns):\n",
      " #   Column             Non-Null Count  Dtype         \n",
      "---  ------             --------------  -----         \n",
      " 0   name               52516 non-null  object        \n",
      " 1   category           52516 non-null  object        \n",
      " 2   category_cnt       52516 non-null  int64         \n",
      " 3   funding_total_usd  52516 non-null  int64         \n",
      " 4   status             52516 non-null  object        \n",
      " 5   country_code       52516 non-null  object        \n",
      " 6   state_code         52516 non-null  object        \n",
      " 7   region             52516 non-null  object        \n",
      " 8   city               52516 non-null  object        \n",
      " 9   funding_rounds     52516 non-null  int64         \n",
      " 10  founded_at         52516 non-null  datetime64[ns]\n",
      " 11  first_funding_at   52516 non-null  datetime64[ns]\n",
      " 12  last_funding_at    52516 non-null  datetime64[ns]\n",
      " 13  closed_at          4917 non-null   datetime64[ns]\n",
      "dtypes: datetime64[ns](4), int64(3), object(7)\n",
      "memory usage: 5.6+ MB\n"
     ]
    }
   ],
   "source": [
    "data_1.info()"
   ]
  },
  {
   "cell_type": "markdown",
   "id": "78f23ddc-bc43-40a6-ae49-587a00d13639",
   "metadata": {},
   "source": [
    "Пропуски в датах есть только в колонке `closed_at`. Судя по всему это потому, что на момент формирования выгрузки эти стартапы еще не закрылись. Проверим это:"
   ]
  },
  {
   "cell_type": "code",
   "execution_count": 62,
   "id": "61f43982-9896-45a5-9846-a8db05438693",
   "metadata": {},
   "outputs": [
    {
     "data": {
      "text/plain": [
       "(47599,\n",
       " status\n",
       " operating    47599\n",
       " Name: count, dtype: int64)"
      ]
     },
     "execution_count": 62,
     "metadata": {},
     "output_type": "execute_result"
    }
   ],
   "source": [
    "len(data_1[data_1.closed_at.isnull()]), data_1[data_1.closed_at.isnull()]['status'].value_counts()"
   ]
  },
  {
   "cell_type": "code",
   "execution_count": 63,
   "id": "e475cb97-b768-4584-b2dd-de9d8cead539",
   "metadata": {},
   "outputs": [
    {
     "data": {
      "text/plain": [
       "status\n",
       "operating    47599\n",
       "closed        4917\n",
       "Name: count, dtype: int64"
      ]
     },
     "execution_count": 63,
     "metadata": {},
     "output_type": "execute_result"
    }
   ],
   "source": [
    "data_1['status'].value_counts()"
   ]
  },
  {
   "cell_type": "code",
   "execution_count": 64,
   "id": "92014b3d-985f-4b5e-83f9-a89b85ba769c",
   "metadata": {},
   "outputs": [
    {
     "name": "stderr",
     "output_type": "stream",
     "text": [
      "/tmp/ipykernel_23911/649377853.py:1: FutureWarning: The behavior of 'isin' with dtype=datetime64[ns] and castable values (e.g. strings) is deprecated. In a future version, these will not be considered matching by isin. Explicitly cast to the appropriate dtype before calling isin instead.\n",
      "  data_1.query('closed_at == \"2018-01-01\"')\n"
     ]
    },
    {
     "data": {
      "text/html": [
       "<div>\n",
       "<style scoped>\n",
       "    .dataframe tbody tr th:only-of-type {\n",
       "        vertical-align: middle;\n",
       "    }\n",
       "\n",
       "    .dataframe tbody tr th {\n",
       "        vertical-align: top;\n",
       "    }\n",
       "\n",
       "    .dataframe thead th {\n",
       "        text-align: right;\n",
       "    }\n",
       "</style>\n",
       "<table border=\"1\" class=\"dataframe\">\n",
       "  <thead>\n",
       "    <tr style=\"text-align: right;\">\n",
       "      <th></th>\n",
       "      <th>name</th>\n",
       "      <th>category</th>\n",
       "      <th>category_cnt</th>\n",
       "      <th>funding_total_usd</th>\n",
       "      <th>status</th>\n",
       "      <th>country_code</th>\n",
       "      <th>state_code</th>\n",
       "      <th>region</th>\n",
       "      <th>city</th>\n",
       "      <th>funding_rounds</th>\n",
       "      <th>founded_at</th>\n",
       "      <th>first_funding_at</th>\n",
       "      <th>last_funding_at</th>\n",
       "      <th>closed_at</th>\n",
       "    </tr>\n",
       "  </thead>\n",
       "  <tbody>\n",
       "  </tbody>\n",
       "</table>\n",
       "</div>"
      ],
      "text/plain": [
       "Empty DataFrame\n",
       "Columns: [name, category, category_cnt, funding_total_usd, status, country_code, state_code, region, city, funding_rounds, founded_at, first_funding_at, last_funding_at, closed_at]\n",
       "Index: []"
      ]
     },
     "execution_count": 64,
     "metadata": {},
     "output_type": "execute_result"
    }
   ],
   "source": [
    "data_1.query('closed_at == \"2018-01-01\"')"
   ]
  },
  {
   "cell_type": "markdown",
   "id": "d4da29c8-fd39-46bc-9006-eab14abf3924",
   "metadata": {},
   "source": [
    "Исходя из результата, заполним пропуки датой \"2018-01-01\" (датой формирования выгрузки). У закрывшихся стартапов такой даты нет."
   ]
  },
  {
   "cell_type": "code",
   "execution_count": 66,
   "id": "5f3605dd-8b8d-470b-9dee-6ddc1262c01f",
   "metadata": {},
   "outputs": [],
   "source": [
    "data_1['closed_at'] = data_1['closed_at'].fillna('2018-01-01')"
   ]
  },
  {
   "cell_type": "code",
   "execution_count": 67,
   "id": "fc831a4e-361d-402b-aa1f-0d8fda79a591",
   "metadata": {},
   "outputs": [],
   "source": [
    "data_1['lifetime'] = data_1['closed_at'] - data_1['founded_at']   # Посчитаем количество дней между открытием и закрытием\n",
    "data_1['lifetime'] = data_1['lifetime'].dt.days                   # Преобразуем в int\n",
    "data_1 = data_1.drop(['founded_at', 'closed_at'], axis=1)         # Колонки с датой основания и закрытия в data_1 уже не нужны"
   ]
  },
  {
   "cell_type": "code",
   "execution_count": 68,
   "id": "8beead29-4e1f-4703-959f-a90a7a980b9a",
   "metadata": {},
   "outputs": [
    {
     "data": {
      "text/html": [
       "<div>\n",
       "<style scoped>\n",
       "    .dataframe tbody tr th:only-of-type {\n",
       "        vertical-align: middle;\n",
       "    }\n",
       "\n",
       "    .dataframe tbody tr th {\n",
       "        vertical-align: top;\n",
       "    }\n",
       "\n",
       "    .dataframe thead th {\n",
       "        text-align: right;\n",
       "    }\n",
       "</style>\n",
       "<table border=\"1\" class=\"dataframe\">\n",
       "  <thead>\n",
       "    <tr style=\"text-align: right;\">\n",
       "      <th></th>\n",
       "      <th>name</th>\n",
       "      <th>category</th>\n",
       "      <th>category_cnt</th>\n",
       "      <th>funding_total_usd</th>\n",
       "      <th>status</th>\n",
       "      <th>country_code</th>\n",
       "      <th>state_code</th>\n",
       "      <th>region</th>\n",
       "      <th>city</th>\n",
       "      <th>funding_rounds</th>\n",
       "      <th>first_funding_at</th>\n",
       "      <th>last_funding_at</th>\n",
       "      <th>lifetime</th>\n",
       "    </tr>\n",
       "  </thead>\n",
       "  <tbody>\n",
       "    <tr>\n",
       "      <th>0</th>\n",
       "      <td>Lunchgate</td>\n",
       "      <td>Online Reservations</td>\n",
       "      <td>2</td>\n",
       "      <td>828626</td>\n",
       "      <td>operating</td>\n",
       "      <td>CHE</td>\n",
       "      <td>25</td>\n",
       "      <td>Zurich</td>\n",
       "      <td>Zürich</td>\n",
       "      <td>2</td>\n",
       "      <td>2011-05-01</td>\n",
       "      <td>2014-12-01</td>\n",
       "      <td>2998</td>\n",
       "    </tr>\n",
       "    <tr>\n",
       "      <th>1</th>\n",
       "      <td>EarLens</td>\n",
       "      <td>Manufacturing</td>\n",
       "      <td>3</td>\n",
       "      <td>42935019</td>\n",
       "      <td>operating</td>\n",
       "      <td>USA</td>\n",
       "      <td>CA</td>\n",
       "      <td>SF Bay Area</td>\n",
       "      <td>Redwood City</td>\n",
       "      <td>4</td>\n",
       "      <td>2010-05-04</td>\n",
       "      <td>2014-02-25</td>\n",
       "      <td>4748</td>\n",
       "    </tr>\n",
       "    <tr>\n",
       "      <th>2</th>\n",
       "      <td>Reviva Pharmaceuticals</td>\n",
       "      <td>Biotechnology</td>\n",
       "      <td>1</td>\n",
       "      <td>35456381</td>\n",
       "      <td>operating</td>\n",
       "      <td>USA</td>\n",
       "      <td>CA</td>\n",
       "      <td>SF Bay Area</td>\n",
       "      <td>San Jose</td>\n",
       "      <td>3</td>\n",
       "      <td>2012-08-20</td>\n",
       "      <td>2014-07-02</td>\n",
       "      <td>4383</td>\n",
       "    </tr>\n",
       "  </tbody>\n",
       "</table>\n",
       "</div>"
      ],
      "text/plain": [
       "                     name             category  category_cnt  \\\n",
       "0               Lunchgate  Online Reservations             2   \n",
       "1                 EarLens        Manufacturing             3   \n",
       "2  Reviva Pharmaceuticals        Biotechnology             1   \n",
       "\n",
       "   funding_total_usd     status country_code state_code       region  \\\n",
       "0             828626  operating          CHE         25       Zurich   \n",
       "1           42935019  operating          USA         CA  SF Bay Area   \n",
       "2           35456381  operating          USA         CA  SF Bay Area   \n",
       "\n",
       "           city  funding_rounds first_funding_at last_funding_at  lifetime  \n",
       "0        Zürich               2       2011-05-01      2014-12-01      2998  \n",
       "1  Redwood City               4       2010-05-04      2014-02-25      4748  \n",
       "2      San Jose               3       2012-08-20      2014-07-02      4383  "
      ]
     },
     "execution_count": 68,
     "metadata": {},
     "output_type": "execute_result"
    }
   ],
   "source": [
    "data_1.head(3)"
   ]
  },
  {
   "cell_type": "code",
   "execution_count": 69,
   "id": "63fb2225-13a1-4dff-a604-0179f26959da",
   "metadata": {},
   "outputs": [
    {
     "data": {
      "text/html": [
       "<div>\n",
       "<style scoped>\n",
       "    .dataframe tbody tr th:only-of-type {\n",
       "        vertical-align: middle;\n",
       "    }\n",
       "\n",
       "    .dataframe tbody tr th {\n",
       "        vertical-align: top;\n",
       "    }\n",
       "\n",
       "    .dataframe thead th {\n",
       "        text-align: right;\n",
       "    }\n",
       "</style>\n",
       "<table border=\"1\" class=\"dataframe\">\n",
       "  <thead>\n",
       "    <tr style=\"text-align: right;\">\n",
       "      <th></th>\n",
       "      <th>name</th>\n",
       "      <th>category</th>\n",
       "      <th>category_cnt</th>\n",
       "      <th>funding_total_usd</th>\n",
       "      <th>country_code</th>\n",
       "      <th>state_code</th>\n",
       "      <th>region</th>\n",
       "      <th>city</th>\n",
       "      <th>funding_rounds</th>\n",
       "      <th>first_funding_at</th>\n",
       "      <th>last_funding_at</th>\n",
       "      <th>lifetime</th>\n",
       "    </tr>\n",
       "  </thead>\n",
       "  <tbody>\n",
       "    <tr>\n",
       "      <th>0</th>\n",
       "      <td>Crystalsol</td>\n",
       "      <td>Clean Technology</td>\n",
       "      <td>1</td>\n",
       "      <td>2819200</td>\n",
       "      <td>NIC</td>\n",
       "      <td>17</td>\n",
       "      <td>unknown</td>\n",
       "      <td>unknown</td>\n",
       "      <td>1</td>\n",
       "      <td>2009-07-01</td>\n",
       "      <td>2009-07-01</td>\n",
       "      <td>3501</td>\n",
       "    </tr>\n",
       "    <tr>\n",
       "      <th>1</th>\n",
       "      <td>JBI Fish &amp; Wings</td>\n",
       "      <td>Hospitality</td>\n",
       "      <td>1</td>\n",
       "      <td>2000000</td>\n",
       "      <td>USA</td>\n",
       "      <td>TN</td>\n",
       "      <td>TN - Other</td>\n",
       "      <td>Humboldt</td>\n",
       "      <td>1</td>\n",
       "      <td>2010-07-28</td>\n",
       "      <td>2010-07-28</td>\n",
       "      <td>2717</td>\n",
       "    </tr>\n",
       "    <tr>\n",
       "      <th>2</th>\n",
       "      <td>COINPLUS</td>\n",
       "      <td>Finance</td>\n",
       "      <td>1</td>\n",
       "      <td>428257</td>\n",
       "      <td>LUX</td>\n",
       "      <td>3</td>\n",
       "      <td>Esch-sur-alzette</td>\n",
       "      <td>Esch-sur-alzette</td>\n",
       "      <td>2</td>\n",
       "      <td>2014-05-15</td>\n",
       "      <td>2014-09-18</td>\n",
       "      <td>1295</td>\n",
       "    </tr>\n",
       "  </tbody>\n",
       "</table>\n",
       "</div>"
      ],
      "text/plain": [
       "               name          category  category_cnt  funding_total_usd  \\\n",
       "0        Crystalsol  Clean Technology             1            2819200   \n",
       "1  JBI Fish & Wings       Hospitality             1            2000000   \n",
       "2          COINPLUS           Finance             1             428257   \n",
       "\n",
       "  country_code state_code            region              city  funding_rounds  \\\n",
       "0          NIC         17           unknown           unknown               1   \n",
       "1          USA         TN        TN - Other          Humboldt               1   \n",
       "2          LUX          3  Esch-sur-alzette  Esch-sur-alzette               2   \n",
       "\n",
       "  first_funding_at last_funding_at  lifetime  \n",
       "0       2009-07-01      2009-07-01      3501  \n",
       "1       2010-07-28      2010-07-28      2717  \n",
       "2       2014-05-15      2014-09-18      1295  "
      ]
     },
     "execution_count": 69,
     "metadata": {},
     "output_type": "execute_result"
    }
   ],
   "source": [
    "data_2.head(3)"
   ]
  },
  {
   "cell_type": "markdown",
   "id": "04149c2e-20a9-4ce0-87e4-048d40bf22e8",
   "metadata": {},
   "source": [
    "Проверим, все ли пропуски заполнены и не были ли случайно удалены нужные данные:"
   ]
  },
  {
   "cell_type": "code",
   "execution_count": 71,
   "id": "c4646b6c-2fda-4efd-a735-b46447f0a3bb",
   "metadata": {
    "scrolled": true
   },
   "outputs": [
    {
     "name": "stdout",
     "output_type": "stream",
     "text": [
      "<class 'pandas.core.frame.DataFrame'>\n",
      "RangeIndex: 52516 entries, 0 to 52515\n",
      "Data columns (total 13 columns):\n",
      " #   Column             Non-Null Count  Dtype  \n",
      "---  ------             --------------  -----  \n",
      " 0   name               52515 non-null  object \n",
      " 1   category_list      50051 non-null  object \n",
      " 2   funding_total_usd  42447 non-null  float64\n",
      " 3   status             52516 non-null  object \n",
      " 4   country_code       47014 non-null  object \n",
      " 5   state_code         45753 non-null  object \n",
      " 6   region             46157 non-null  object \n",
      " 7   city               46157 non-null  object \n",
      " 8   funding_rounds     52516 non-null  int64  \n",
      " 9   founded_at         52516 non-null  object \n",
      " 10  first_funding_at   52516 non-null  object \n",
      " 11  last_funding_at    52516 non-null  object \n",
      " 12  closed_at          4917 non-null   object \n",
      "dtypes: float64(1), int64(1), object(11)\n",
      "memory usage: 5.2+ MB\n",
      "<class 'pandas.core.frame.DataFrame'>\n",
      "RangeIndex: 52516 entries, 0 to 52515\n",
      "Data columns (total 13 columns):\n",
      " #   Column             Non-Null Count  Dtype         \n",
      "---  ------             --------------  -----         \n",
      " 0   name               52516 non-null  object        \n",
      " 1   category           52516 non-null  object        \n",
      " 2   category_cnt       52516 non-null  int64         \n",
      " 3   funding_total_usd  52516 non-null  int64         \n",
      " 4   status             52516 non-null  object        \n",
      " 5   country_code       52516 non-null  object        \n",
      " 6   state_code         52516 non-null  object        \n",
      " 7   region             52516 non-null  object        \n",
      " 8   city               52516 non-null  object        \n",
      " 9   funding_rounds     52516 non-null  int64         \n",
      " 10  first_funding_at   52516 non-null  datetime64[ns]\n",
      " 11  last_funding_at    52516 non-null  datetime64[ns]\n",
      " 12  lifetime           52516 non-null  int64         \n",
      "dtypes: datetime64[ns](2), int64(4), object(7)\n",
      "memory usage: 5.2+ MB\n",
      "<class 'pandas.core.frame.DataFrame'>\n",
      "RangeIndex: 13125 entries, 0 to 13124\n",
      "Data columns (total 11 columns):\n",
      " #   Column             Non-Null Count  Dtype  \n",
      "---  ------             --------------  -----  \n",
      " 0   name               13125 non-null  object \n",
      " 1   category_list      12534 non-null  object \n",
      " 2   funding_total_usd  10547 non-null  float64\n",
      " 3   country_code       11743 non-null  object \n",
      " 4   state_code         11430 non-null  object \n",
      " 5   region             11536 non-null  object \n",
      " 6   city               11538 non-null  object \n",
      " 7   funding_rounds     13125 non-null  int64  \n",
      " 8   first_funding_at   13125 non-null  object \n",
      " 9   last_funding_at    13125 non-null  object \n",
      " 10  lifetime           13125 non-null  int64  \n",
      "dtypes: float64(1), int64(2), object(8)\n",
      "memory usage: 1.1+ MB\n",
      "<class 'pandas.core.frame.DataFrame'>\n",
      "RangeIndex: 13125 entries, 0 to 13124\n",
      "Data columns (total 12 columns):\n",
      " #   Column             Non-Null Count  Dtype         \n",
      "---  ------             --------------  -----         \n",
      " 0   name               13125 non-null  object        \n",
      " 1   category           13125 non-null  object        \n",
      " 2   category_cnt       13125 non-null  int64         \n",
      " 3   funding_total_usd  13125 non-null  int64         \n",
      " 4   country_code       13125 non-null  object        \n",
      " 5   state_code         13125 non-null  object        \n",
      " 6   region             13125 non-null  object        \n",
      " 7   city               13125 non-null  object        \n",
      " 8   funding_rounds     13125 non-null  int64         \n",
      " 9   first_funding_at   13125 non-null  datetime64[ns]\n",
      " 10  last_funding_at    13125 non-null  datetime64[ns]\n",
      " 11  lifetime           13125 non-null  int64         \n",
      "dtypes: datetime64[ns](2), int64(4), object(6)\n",
      "memory usage: 1.2+ MB\n"
     ]
    },
    {
     "data": {
      "text/plain": [
       "(None, None, None, None)"
      ]
     },
     "execution_count": 71,
     "metadata": {},
     "output_type": "execute_result"
    }
   ],
   "source": [
    "data_train.info(), data_1.info(), data_test.info(), data_2.info()"
   ]
  },
  {
   "cell_type": "markdown",
   "id": "c191f327-6249-458e-af70-65f9b1479e1e",
   "metadata": {},
   "source": [
    "**Вывод**\n",
    "<br> Исходя из выполненной работы"
   ]
  },
  {
   "cell_type": "markdown",
   "id": "4e695c0c-23d8-43b4-86a7-ee837e0ffeb3",
   "metadata": {},
   "source": [
    "## EDA"
   ]
  },
  {
   "cell_type": "markdown",
   "id": "52061403-ff64-4580-b33e-66849eec7b4e",
   "metadata": {},
   "source": [
    "Создадим 2 датафрема с действующими и закрытыми стартапами:"
   ]
  },
  {
   "cell_type": "code",
   "execution_count": 75,
   "id": "c546020d-4508-44f6-ab37-888ca5be8e33",
   "metadata": {},
   "outputs": [],
   "source": [
    "operate = data_1.query('status == \"operating\"')\n",
    "closed = data_1.query('status == \"closed\"')"
   ]
  },
  {
   "cell_type": "code",
   "execution_count": 76,
   "id": "ebfe5581-777f-4327-8ac5-7530d50442bc",
   "metadata": {},
   "outputs": [
    {
     "data": {
      "text/html": [
       "<div>\n",
       "<style scoped>\n",
       "    .dataframe tbody tr th:only-of-type {\n",
       "        vertical-align: middle;\n",
       "    }\n",
       "\n",
       "    .dataframe tbody tr th {\n",
       "        vertical-align: top;\n",
       "    }\n",
       "\n",
       "    .dataframe thead th {\n",
       "        text-align: right;\n",
       "    }\n",
       "</style>\n",
       "<table border=\"1\" class=\"dataframe\">\n",
       "  <thead>\n",
       "    <tr style=\"text-align: right;\">\n",
       "      <th></th>\n",
       "      <th>name</th>\n",
       "      <th>category</th>\n",
       "      <th>category_cnt</th>\n",
       "      <th>funding_total_usd</th>\n",
       "      <th>status</th>\n",
       "      <th>country_code</th>\n",
       "      <th>state_code</th>\n",
       "      <th>region</th>\n",
       "      <th>city</th>\n",
       "      <th>funding_rounds</th>\n",
       "      <th>first_funding_at</th>\n",
       "      <th>last_funding_at</th>\n",
       "      <th>lifetime</th>\n",
       "    </tr>\n",
       "  </thead>\n",
       "  <tbody>\n",
       "    <tr>\n",
       "      <th>12</th>\n",
       "      <td>Iberic Premium</td>\n",
       "      <td>unknown</td>\n",
       "      <td>0</td>\n",
       "      <td>107239</td>\n",
       "      <td>closed</td>\n",
       "      <td>unknown</td>\n",
       "      <td>unknown</td>\n",
       "      <td>unknown</td>\n",
       "      <td>unknown</td>\n",
       "      <td>1</td>\n",
       "      <td>2014-06-01</td>\n",
       "      <td>2014-06-01</td>\n",
       "      <td>714</td>\n",
       "    </tr>\n",
       "    <tr>\n",
       "      <th>16</th>\n",
       "      <td>Salesjob</td>\n",
       "      <td>unknown</td>\n",
       "      <td>0</td>\n",
       "      <td>2000000</td>\n",
       "      <td>closed</td>\n",
       "      <td>unknown</td>\n",
       "      <td>unknown</td>\n",
       "      <td>unknown</td>\n",
       "      <td>unknown</td>\n",
       "      <td>1</td>\n",
       "      <td>2013-10-22</td>\n",
       "      <td>2013-10-22</td>\n",
       "      <td>952</td>\n",
       "    </tr>\n",
       "    <tr>\n",
       "      <th>23</th>\n",
       "      <td>Vputi</td>\n",
       "      <td>Consumers</td>\n",
       "      <td>1</td>\n",
       "      <td>50000</td>\n",
       "      <td>closed</td>\n",
       "      <td>RUS</td>\n",
       "      <td>91</td>\n",
       "      <td>RUS - Other</td>\n",
       "      <td>Krasnoyarsk</td>\n",
       "      <td>1</td>\n",
       "      <td>2013-03-08</td>\n",
       "      <td>2013-03-08</td>\n",
       "      <td>861</td>\n",
       "    </tr>\n",
       "  </tbody>\n",
       "</table>\n",
       "</div>"
      ],
      "text/plain": [
       "              name   category  category_cnt  funding_total_usd  status  \\\n",
       "12  Iberic Premium    unknown             0             107239  closed   \n",
       "16        Salesjob    unknown             0            2000000  closed   \n",
       "23           Vputi  Consumers             1              50000  closed   \n",
       "\n",
       "   country_code state_code       region         city  funding_rounds  \\\n",
       "12      unknown    unknown      unknown      unknown               1   \n",
       "16      unknown    unknown      unknown      unknown               1   \n",
       "23          RUS         91  RUS - Other  Krasnoyarsk               1   \n",
       "\n",
       "   first_funding_at last_funding_at  lifetime  \n",
       "12       2014-06-01      2014-06-01       714  \n",
       "16       2013-10-22      2013-10-22       952  \n",
       "23       2013-03-08      2013-03-08       861  "
      ]
     },
     "execution_count": 76,
     "metadata": {},
     "output_type": "execute_result"
    }
   ],
   "source": [
    "closed.head(3)"
   ]
  },
  {
   "cell_type": "code",
   "execution_count": 77,
   "id": "de085fa7-a43b-4db4-a87d-8df3cc0f1819",
   "metadata": {},
   "outputs": [
    {
     "data": {
      "image/png": "[encoded data removed]",
      "text/plain": [
       "<Figure size 1000x400 with 2 Axes>"
      ]
     },
     "metadata": {},
     "output_type": "display_data"
    }
   ],
   "source": [
    "fig, axes = plt.subplots(1, 2, figsize=(10, 4))\n",
    "axe = axes.ravel()\n",
    "operate.funding_total_usd.hist(bins=30, ax=axe[0], label='Действующие')       # Гистограммы финансирования\n",
    "closed.funding_total_usd.hist(bins=30, ax=axe[0], label='Закрытые', alpha=0.6)\n",
    "axe[0].set_title('Распределение стартапов по бюджету')\n",
    "axe[0].set_xlabel('Финансирование, USD')\n",
    "axe[0].set_ylabel('Количество стартапов')\n",
    "axe[0].legend()\n",
    "\n",
    "operate.lifetime.hist(bins=30, ax=axe[1], label='Действующие')                     # Гистограммы срока жизни\n",
    "closed.lifetime.hist(bins=30, ax=axe[1], label='Закрытые', alpha=0.6)\n",
    "axe[1].set_title('Распределение стартапов по времени дествия')\n",
    "axe[1].set_xlabel('Время действия, дней')\n",
    "axe[1].set_ylabel('Количество стартапов')\n",
    "axe[1].legend()\n",
    "\n",
    "plt.show()"
   ]
  },
  {
   "cell_type": "markdown",
   "id": "79b9b84f-1c9c-4cba-90ca-e073898edb58",
   "metadata": {},
   "source": [
    "Как видно из гистограмм, подавлющее большинство стартапов имею малые бюджеты. При этом, если компания проживет примерно 3 года, то она скорее всего не закроется.\n",
    "<br>Посмотрим, скольким стартапам удалось привлечь более 150 млн. долларов:"
   ]
  },
  {
   "cell_type": "code",
   "execution_count": 79,
   "id": "e22e590d-d9ec-4eb2-a98f-8cc02591262d",
   "metadata": {},
   "outputs": [
    {
     "data": {
      "text/plain": [
       "(2664, 5.072739736461269)"
      ]
     },
     "execution_count": 79,
     "metadata": {},
     "output_type": "execute_result"
    }
   ],
   "source": [
    "len(data_1.query('funding_total_usd > 55000000')), len(data_1.query('funding_total_usd > 55000000'))*100 / len(data_1)"
   ]
  },
  {
   "cell_type": "code",
   "execution_count": 80,
   "id": "21102362-cbaf-4dee-ad43-9440d2df8d1c",
   "metadata": {},
   "outputs": [
    {
     "data": {
      "text/plain": [
       "status\n",
       "operating    2502\n",
       "closed        162\n",
       "Name: count, dtype: int64"
      ]
     },
     "execution_count": 80,
     "metadata": {},
     "output_type": "execute_result"
    }
   ],
   "source": [
    "data_1.query('funding_total_usd > 55000000')['status'].value_counts()"
   ]
  },
  {
   "cell_type": "markdown",
   "id": "9cb7251b-141a-4a6b-aef4-4db6e3f44ed8",
   "metadata": {},
   "source": [
    "Всего 2664 стартапам (5%) удалось привлечь более 55 млн. И 2502 из них до сих пор функционируют. Посмотрим на распределение финансирования между менее финансиремыми компаниями:"
   ]
  },
  {
   "cell_type": "code",
   "execution_count": 82,
   "id": "68fc4809-ff43-4a79-bdd6-aaca96adf683",
   "metadata": {},
   "outputs": [
    {
     "data": {
      "text/plain": [
       "49852"
      ]
     },
     "execution_count": 82,
     "metadata": {},
     "output_type": "execute_result"
    }
   ],
   "source": [
    "small_start = data_1.query('funding_total_usd <= 55000000')\n",
    "len(small_start)"
   ]
  },
  {
   "cell_type": "code",
   "execution_count": 83,
   "id": "232745d6-6614-4a10-9f79-d56a7a7a459f",
   "metadata": {},
   "outputs": [],
   "source": [
    "operate_small = small_start.query('status == \"operating\"')\n",
    "closed_small = small_start.query('status == \"closed\"')"
   ]
  },
  {
   "cell_type": "code",
   "execution_count": 84,
   "id": "f349511a-914a-4b4e-9d21-6b8e714db02e",
   "metadata": {},
   "outputs": [
    {
     "data": {
      "image/png": "[encoded data removed]",
      "text/plain": [
       "<Figure size 500x400 with 1 Axes>"
      ]
     },
     "metadata": {},
     "output_type": "display_data"
    }
   ],
   "source": [
    "operate_small.funding_total_usd.hist(bins=30, label='Действующие', figsize=(5, 4))       # Гистограммы финансирования\n",
    "closed_small.funding_total_usd.hist(bins=30, label='Закрытые', alpha=0.6, figsize=(5, 4))\n",
    "plt.title('Распределение стартапов по бюджету (до 55 млн. долл.)')\n",
    "plt.xlabel('Финансирование, USD')\n",
    "plt.ylabel('Количество стартапов')\n",
    "plt.legend();"
   ]
  },
  {
   "cell_type": "markdown",
   "id": "69a03a45-3cdb-4e31-847a-60fec8a42cd5",
   "metadata": {},
   "source": [
    "Картина стала более ясной. Большое количество компаний имеют малое финансирование. Скорее всего это вызвано нежеланием инвесторов вкладывать большие суммы в такие рискованные сферы."
   ]
  },
  {
   "cell_type": "code",
   "execution_count": null,
   "id": "967a362e-3462-46ad-a9bf-fd49f51a44f0",
   "metadata": {},
   "outputs": [],
   "source": []
  },
  {
   "cell_type": "code",
   "execution_count": null,
   "id": "b76b0fc7-c175-40ef-9082-b8771f0c5851",
   "metadata": {},
   "outputs": [],
   "source": []
  },
  {
   "cell_type": "code",
   "execution_count": null,
   "id": "245a526f-e508-4e33-bf11-8c8260bc7437",
   "metadata": {},
   "outputs": [],
   "source": []
  },
  {
   "cell_type": "code",
   "execution_count": null,
   "id": "a19290c9-ffb3-45f2-8cc3-bcb8e9aa8756",
   "metadata": {},
   "outputs": [],
   "source": []
  },
  {
   "cell_type": "code",
   "execution_count": null,
   "id": "31c8e8e3-08e1-45ed-bc5d-cb112d98ddb9",
   "metadata": {},
   "outputs": [],
   "source": []
  },
  {
   "cell_type": "code",
   "execution_count": null,
   "id": "c728c0f2-0370-43fb-8cce-5bd98ec4465c",
   "metadata": {},
   "outputs": [],
   "source": []
  },
  {
   "cell_type": "code",
   "execution_count": null,
   "id": "1d05b393-94d5-4c8f-9d61-85b10dd169c2",
   "metadata": {},
   "outputs": [],
   "source": []
  },
  {
   "cell_type": "code",
   "execution_count": null,
   "id": "660f08ac-6205-4b79-8204-0305e867cf4d",
   "metadata": {},
   "outputs": [],
   "source": []
  },
  {
   "cell_type": "markdown",
   "id": "687756dc-7365-42ee-b8fb-f8baacd92975",
   "metadata": {},
   "source": [
    "## Разработка новых признаков"
   ]
  },
  {
   "cell_type": "code",
   "execution_count": null,
   "id": "925af3d1-4f26-4abc-9a9c-d5b417bd480e",
   "metadata": {},
   "outputs": [],
   "source": []
  },
  {
   "cell_type": "code",
   "execution_count": null,
   "id": "79b83ede-da3b-412a-9350-21d45b626446",
   "metadata": {},
   "outputs": [],
   "source": []
  }
 ],
 "metadata": {
  "kernelspec": {
   "display_name": "Python 3 (ipykernel)",
   "language": "python",
   "name": "python3"
  },
  "language_info": {
   "codemirror_mode": {
    "name": "ipython",
    "version": 3
   },
   "file_extension": ".py",
   "mimetype": "text/x-python",
   "name": "python",
   "nbconvert_exporter": "python",
   "pygments_lexer": "ipython3",
   "version": "3.12.4"
  },
  "panel-cell-order": [
   "3ae3478d-f766-4837-b11f-cf1020aed08f"
  ]
 },
 "nbformat": 4,
 "nbformat_minor": 5
}
